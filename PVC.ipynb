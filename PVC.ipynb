{
  "nbformat": 4,
  "nbformat_minor": 0,
  "metadata": {
    "colab": {
      "provenance": [],
      "mount_file_id": "1LyRqYayDvAO6leg6BiaHLA67qeLoqWqe",
      "authorship_tag": "ABX9TyP2VcsHsNaeTjiGpBk18KjS",
      "include_colab_link": true
    },
    "kernelspec": {
      "name": "python3",
      "display_name": "Python 3"
    },
    "language_info": {
      "name": "python"
    }
  },
  "cells": [
    {
      "cell_type": "markdown",
      "metadata": {
        "id": "view-in-github",
        "colab_type": "text"
      },
      "source": [
        "<a href=\"https://colab.research.google.com/github/LokeshDamarla/AI/blob/main/PVC.ipynb\" target=\"_parent\"><img src=\"https://colab.research.google.com/assets/colab-badge.svg\" alt=\"Open In Colab\"/></a>"
      ]
    },
    {
      "cell_type": "code",
      "execution_count": 1,
      "metadata": {
        "colab": {
          "base_uri": "https://localhost:8080/"
        },
        "id": "DsorRnpdh5jI",
        "outputId": "7ec863f7-b748-40b6-ff82-9d0dc2848146"
      },
      "outputs": [
        {
          "output_type": "stream",
          "name": "stdout",
          "text": [
            "Collecting wfdb\n",
            "  Downloading wfdb-4.1.2-py3-none-any.whl (159 kB)\n",
            "\u001b[?25l     \u001b[90m━━━━━━━━━━━━━━━━━━━━━━━━━━━━━━━━━━━━━━━━\u001b[0m \u001b[32m0.0/160.0 kB\u001b[0m \u001b[31m?\u001b[0m eta \u001b[36m-:--:--\u001b[0m\r\u001b[2K     \u001b[91m━━━━━━━━━━━━━━━━━━━━━━━━━━━━━━━━━━━━━\u001b[0m\u001b[90m╺\u001b[0m\u001b[90m━\u001b[0m \u001b[32m153.6/160.0 kB\u001b[0m \u001b[31m5.2 MB/s\u001b[0m eta \u001b[36m0:00:01\u001b[0m\r\u001b[2K     \u001b[90m━━━━━━━━━━━━━━━━━━━━━━━━━━━━━━━━━━━━━━━\u001b[0m \u001b[32m160.0/160.0 kB\u001b[0m \u001b[31m4.1 MB/s\u001b[0m eta \u001b[36m0:00:00\u001b[0m\n",
            "\u001b[?25hRequirement already satisfied: SoundFile>=0.10.0 in /usr/local/lib/python3.10/dist-packages (from wfdb) (0.12.1)\n",
            "Requirement already satisfied: matplotlib>=3.2.2 in /usr/local/lib/python3.10/dist-packages (from wfdb) (3.7.1)\n",
            "Requirement already satisfied: numpy>=1.10.1 in /usr/local/lib/python3.10/dist-packages (from wfdb) (1.22.4)\n",
            "Requirement already satisfied: pandas>=1.3.0 in /usr/local/lib/python3.10/dist-packages (from wfdb) (1.5.3)\n",
            "Requirement already satisfied: requests>=2.8.1 in /usr/local/lib/python3.10/dist-packages (from wfdb) (2.27.1)\n",
            "Requirement already satisfied: scipy>=1.0.0 in /usr/local/lib/python3.10/dist-packages (from wfdb) (1.10.1)\n",
            "Requirement already satisfied: contourpy>=1.0.1 in /usr/local/lib/python3.10/dist-packages (from matplotlib>=3.2.2->wfdb) (1.1.0)\n",
            "Requirement already satisfied: cycler>=0.10 in /usr/local/lib/python3.10/dist-packages (from matplotlib>=3.2.2->wfdb) (0.11.0)\n",
            "Requirement already satisfied: fonttools>=4.22.0 in /usr/local/lib/python3.10/dist-packages (from matplotlib>=3.2.2->wfdb) (4.40.0)\n",
            "Requirement already satisfied: kiwisolver>=1.0.1 in /usr/local/lib/python3.10/dist-packages (from matplotlib>=3.2.2->wfdb) (1.4.4)\n",
            "Requirement already satisfied: packaging>=20.0 in /usr/local/lib/python3.10/dist-packages (from matplotlib>=3.2.2->wfdb) (23.1)\n",
            "Requirement already satisfied: pillow>=6.2.0 in /usr/local/lib/python3.10/dist-packages (from matplotlib>=3.2.2->wfdb) (8.4.0)\n",
            "Requirement already satisfied: pyparsing>=2.3.1 in /usr/local/lib/python3.10/dist-packages (from matplotlib>=3.2.2->wfdb) (3.1.0)\n",
            "Requirement already satisfied: python-dateutil>=2.7 in /usr/local/lib/python3.10/dist-packages (from matplotlib>=3.2.2->wfdb) (2.8.2)\n",
            "Requirement already satisfied: pytz>=2020.1 in /usr/local/lib/python3.10/dist-packages (from pandas>=1.3.0->wfdb) (2022.7.1)\n",
            "Requirement already satisfied: urllib3<1.27,>=1.21.1 in /usr/local/lib/python3.10/dist-packages (from requests>=2.8.1->wfdb) (1.26.16)\n",
            "Requirement already satisfied: certifi>=2017.4.17 in /usr/local/lib/python3.10/dist-packages (from requests>=2.8.1->wfdb) (2023.5.7)\n",
            "Requirement already satisfied: charset-normalizer~=2.0.0 in /usr/local/lib/python3.10/dist-packages (from requests>=2.8.1->wfdb) (2.0.12)\n",
            "Requirement already satisfied: idna<4,>=2.5 in /usr/local/lib/python3.10/dist-packages (from requests>=2.8.1->wfdb) (3.4)\n",
            "Requirement already satisfied: cffi>=1.0 in /usr/local/lib/python3.10/dist-packages (from SoundFile>=0.10.0->wfdb) (1.15.1)\n",
            "Requirement already satisfied: pycparser in /usr/local/lib/python3.10/dist-packages (from cffi>=1.0->SoundFile>=0.10.0->wfdb) (2.21)\n",
            "Requirement already satisfied: six>=1.5 in /usr/local/lib/python3.10/dist-packages (from python-dateutil>=2.7->matplotlib>=3.2.2->wfdb) (1.16.0)\n",
            "Installing collected packages: wfdb\n",
            "Successfully installed wfdb-4.1.2\n"
          ]
        }
      ],
      "source": [
        "pip install wfdb"
      ]
    },
    {
      "cell_type": "code",
      "source": [
        "pip install scikit-learn"
      ],
      "metadata": {
        "colab": {
          "base_uri": "https://localhost:8080/"
        },
        "id": "wCE_o9YsQH-U",
        "outputId": "0958b470-1dba-4fb5-d2e3-9d4516c108af"
      },
      "execution_count": 2,
      "outputs": [
        {
          "output_type": "stream",
          "name": "stdout",
          "text": [
            "Requirement already satisfied: scikit-learn in /usr/local/lib/python3.10/dist-packages (1.2.2)\n",
            "Requirement already satisfied: numpy>=1.17.3 in /usr/local/lib/python3.10/dist-packages (from scikit-learn) (1.22.4)\n",
            "Requirement already satisfied: scipy>=1.3.2 in /usr/local/lib/python3.10/dist-packages (from scikit-learn) (1.10.1)\n",
            "Requirement already satisfied: joblib>=1.1.1 in /usr/local/lib/python3.10/dist-packages (from scikit-learn) (1.2.0)\n",
            "Requirement already satisfied: threadpoolctl>=2.0.0 in /usr/local/lib/python3.10/dist-packages (from scikit-learn) (3.1.0)\n"
          ]
        }
      ]
    },
    {
      "cell_type": "code",
      "source": [
        "pip install biosppy"
      ],
      "metadata": {
        "colab": {
          "base_uri": "https://localhost:8080/"
        },
        "id": "Szt5kOcrIq5P",
        "outputId": "4c95aa4b-ebd9-4255-cf47-26625077c09e"
      },
      "execution_count": 3,
      "outputs": [
        {
          "output_type": "stream",
          "name": "stdout",
          "text": [
            "Collecting biosppy\n",
            "  Downloading biosppy-1.0.0-py2.py3-none-any.whl (106 kB)\n",
            "\u001b[?25l     \u001b[90m━━━━━━━━━━━━━━━━━━━━━━━━━━━━━━━━━━━━━━━━\u001b[0m \u001b[32m0.0/107.0 kB\u001b[0m \u001b[31m?\u001b[0m eta \u001b[36m-:--:--\u001b[0m\r\u001b[2K     \u001b[90m━━━━━━━━━━━━━━━━━━━━━━━━━━━━━━━━━━━━━━━\u001b[0m \u001b[32m107.0/107.0 kB\u001b[0m \u001b[31m3.4 MB/s\u001b[0m eta \u001b[36m0:00:00\u001b[0m\n",
            "\u001b[?25hCollecting bidict (from biosppy)\n",
            "  Downloading bidict-0.22.1-py3-none-any.whl (35 kB)\n",
            "Requirement already satisfied: h5py in /usr/local/lib/python3.10/dist-packages (from biosppy) (3.8.0)\n",
            "Requirement already satisfied: matplotlib in /usr/local/lib/python3.10/dist-packages (from biosppy) (3.7.1)\n",
            "Requirement already satisfied: numpy in /usr/local/lib/python3.10/dist-packages (from biosppy) (1.22.4)\n",
            "Requirement already satisfied: scikit-learn in /usr/local/lib/python3.10/dist-packages (from biosppy) (1.2.2)\n",
            "Requirement already satisfied: scipy in /usr/local/lib/python3.10/dist-packages (from biosppy) (1.10.1)\n",
            "Collecting shortuuid (from biosppy)\n",
            "  Downloading shortuuid-1.0.11-py3-none-any.whl (10 kB)\n",
            "Requirement already satisfied: six in /usr/local/lib/python3.10/dist-packages (from biosppy) (1.16.0)\n",
            "Requirement already satisfied: joblib in /usr/local/lib/python3.10/dist-packages (from biosppy) (1.2.0)\n",
            "Requirement already satisfied: opencv-python in /usr/local/lib/python3.10/dist-packages (from biosppy) (4.7.0.72)\n",
            "Requirement already satisfied: contourpy>=1.0.1 in /usr/local/lib/python3.10/dist-packages (from matplotlib->biosppy) (1.1.0)\n",
            "Requirement already satisfied: cycler>=0.10 in /usr/local/lib/python3.10/dist-packages (from matplotlib->biosppy) (0.11.0)\n",
            "Requirement already satisfied: fonttools>=4.22.0 in /usr/local/lib/python3.10/dist-packages (from matplotlib->biosppy) (4.40.0)\n",
            "Requirement already satisfied: kiwisolver>=1.0.1 in /usr/local/lib/python3.10/dist-packages (from matplotlib->biosppy) (1.4.4)\n",
            "Requirement already satisfied: packaging>=20.0 in /usr/local/lib/python3.10/dist-packages (from matplotlib->biosppy) (23.1)\n",
            "Requirement already satisfied: pillow>=6.2.0 in /usr/local/lib/python3.10/dist-packages (from matplotlib->biosppy) (8.4.0)\n",
            "Requirement already satisfied: pyparsing>=2.3.1 in /usr/local/lib/python3.10/dist-packages (from matplotlib->biosppy) (3.1.0)\n",
            "Requirement already satisfied: python-dateutil>=2.7 in /usr/local/lib/python3.10/dist-packages (from matplotlib->biosppy) (2.8.2)\n",
            "Requirement already satisfied: threadpoolctl>=2.0.0 in /usr/local/lib/python3.10/dist-packages (from scikit-learn->biosppy) (3.1.0)\n",
            "Installing collected packages: shortuuid, bidict, biosppy\n",
            "Successfully installed bidict-0.22.1 biosppy-1.0.0 shortuuid-1.0.11\n"
          ]
        }
      ]
    },
    {
      "cell_type": "code",
      "source": [
        "import wfdb\n",
        "from copy import deepcopy\n",
        "import pywt\n",
        "import pandas as pd\n",
        "import numpy as np\n",
        "import matplotlib.pyplot as plt\n",
        "from scipy import signal\n",
        "import os\n",
        "import csv\n",
        "from keras import backend as K\n",
        "from scipy.stats import skew\n",
        "from keras.models import load_model\n",
        "from scipy.signal import find_peaks\n",
        "from tensorflow.keras import backend as K\n",
        "from sklearn.ensemble import RandomForestClassifier\n",
        "import pickle\n",
        "from tensorflow.keras.models import Model,load_model\n",
        "from tensorflow.keras.layers import Input,Dense,BatchNormalization,Activation,Lambda,concatenate\n",
        "from statsmodels.tsa.stattools import acf\n",
        "import tensorflow as tf\n",
        "from tensorflow.keras.optimizers import Adam\n",
        "from tensorflow.keras.losses import MeanSquaredError\n",
        "from tensorflow.keras.losses import mse, binary_crossentropy\n",
        "from keras.utils import to_categorical"
      ],
      "metadata": {
        "id": "tBeFxbQ3iAcU"
      },
      "execution_count": 4,
      "outputs": []
    },
    {
      "cell_type": "markdown",
      "source": [
        "# **De-Noise**"
      ],
      "metadata": {
        "id": "8nIfI37aiRo2"
      }
    },
    {
      "cell_type": "code",
      "source": [
        "signal_I01_peaks = pd.read_csv('/content/drive/MyDrive/ECG/incart_DB/Incart_csv/I01.csv')"
      ],
      "metadata": {
        "id": "DOMhQJhR9rGe"
      },
      "execution_count": 5,
      "outputs": []
    },
    {
      "cell_type": "code",
      "source": [
        "from biosppy.signals import ecg\n",
        "\n",
        "# Access the 'II' column (assuming it contains the ECG signal data for Lead II)\n",
        "ii_data = ecg_clean\n",
        "\n",
        "# Process the ECG signal using biosppy\n",
        "out = ecg.ecg(ii_data, sampling_rate=1000, show=False)\n",
        "\n",
        "# Get the R-peak locations\n",
        "r_peaks = out['rpeaks']\n",
        "\n",
        "# Print the R-peak locations\n",
        "print(\"R-peak locations:\")\n",
        "print(r_peaks)\n",
        "\n"
      ],
      "metadata": {
        "colab": {
          "base_uri": "https://localhost:8080/"
        },
        "id": "GBPcVVl49vgh",
        "outputId": "5c4f4dfa-22bb-4848-bdb3-0b654a340c1f"
      },
      "execution_count": 45,
      "outputs": [
        {
          "output_type": "stream",
          "name": "stdout",
          "text": [
            "R-peak locations:\n",
            "[   279    634    907   1168   1434   1721   1983   2396   3099   3380\n",
            "   3678   3963   4484   5314   6396   6837   7323   7644   8126   8592\n",
            "   9235   9889  10483  10795  12054  12368  12674  13453  13921  14079\n",
            "  14701  15174  15643  16104  16427  16899  17379  17866  18180  18985\n",
            "  19787  20255  20723  21285  21683  22325  22838  23153  23507  24157\n",
            "  24339  24825  25190  25716  26216  26406  26744  27061  27254  27594\n",
            "  27915  28115  28465  28789  29163  29852  30054  30744  31599  31758\n",
            "  32298  32819  33494  33856  34364  35066  35431  36339  36850  37047\n",
            "  37551  37754  38087  38290  38798  39007  39345  39556  40072  40627\n",
            "  41178  41379  41893  42098  42437  42814  43142  43345  43850  44052\n",
            "  44550  44923  45254  45452  45962  46353  46688  46889  47398  47931\n",
            "  48305  48997  49368  49534  50068  50498  50770  51302  51671  52028\n",
            "  52377  53080  53613  54144  54336  54682  55370  55909  56440  56747\n",
            "  57103  57627  57979  58502  59009  59214  59555  59750  60089  60095\n",
            "  60636  60810  61688  62039  63113  64015  64551  65070  65599  65607\n",
            "  66145  66667  67195  67533  67913  68247  68794  68986  69498  69706\n",
            "  70237  70927  71300  71826  72512  72882  73058  73584  74253  74437\n",
            "  74781  75121  75465  76003  76880  77386  77749  78102  78399  78623\n",
            "  78968  79552  79758  80129  80327  80620  80991  81278  81559  81854\n",
            "  82059  82351  82677  83012  83181  83597  84065  84424  84691  84899\n",
            "  85182  85539  85820  86099  86388  86673  86950  87237  87523  87735\n",
            "  88053  88332  88674  89145  89450  89735  90072  90376  90652  90940\n",
            "  91142  91505  91758  92076  92385  92639  92937  93231  93523  93822\n",
            "  94105  94691  95272  95564  95858  96141  96438  96711  96997  97299\n",
            "  97571  98068  98356  98720  99290  99596  99794 100068 100379 100737\n",
            " 100965 101335 101532 101867 102126 102503 102807 103097 103388 103602\n",
            " 103989 104178 104558 104834 105125 105706 105984 106200 106545 106751\n",
            " 107116 107386 107656 107942 108210 108403 108765 109044 109328 109521\n",
            " 109794 110092 110445 110730 110930 111209 111568 111852 112134 112418\n",
            " 112624 112984 113290 113564 113838 114046 114333 114609 114984 115260\n",
            " 115544 115774 116120 116409 116696 116880 117236 117484 117828 118110\n",
            " 118401 118610 118975 119281 119485 119857 120063 120444 120701 121016\n",
            " 121298 121574 121861 122150 122357 122717 123020 123294 123577 124122\n",
            " 124467 124758 125058 125345 125638 125946 126563 126894 127142 127420\n",
            " 127703 128010 128277 128917 129207 129515 129824 130128 130436 130745\n",
            " 131033 131332 131614 131896 132193 132486 132769 133060 133361 133649\n",
            " 133958 134239 134473 134746 135108 135415 135716 135996 136302 136579\n",
            " 136870 137171 137475 137695 138069 138357 138649 138929 139216 139515\n",
            " 139809 140115 140690 141003 141305 141608 141892 142188 142492 142784\n",
            " 143089 143379 143699 144015 144318 144619 144931 145231 145527 145829\n",
            " 146152 146448 146727 147031 147347 147636 147873 148279 148575 148877\n",
            " 149172 149487 149775 150066 150312 150660 150944 151237 151518 151819\n",
            " 152102 152388 152683 152977 153279 153580 153886 154136 154705 154989\n",
            " 155260 155540 155828 156094 156380 156718 157058 157349 157666 157976\n",
            " 158583 158880 159186 159486 159772 160686 160987 161295 161608 161919\n",
            " 162223 162524 162823 163074 163334 163606 163880 164152 164437 165040\n",
            " 165336 165956 166259 166551 166841 167417 167746 168084 168385 169451\n",
            " 169786 170441 170754 171573 171724 172533 173351 174073 174673 175030\n",
            " 175692 176271 176582 176863 177155 177436 177715 177995 178275 178546\n",
            " 178821 179098 179385 179670 179892 180203 180471 181049 181341 181633\n",
            " 182353 183111 183898 184938 185983 186838 187502 188196 188875 189733\n",
            " 190592 190937 191920 192341 192615 193301 193997 194718 195164 195821\n",
            " 196908 198018 198733 199451 200955 201306 202438 203544 204243 204620\n",
            " 204949 205311 206203 206450 206933 207402 207898 208063 208709 209010\n",
            " 209553 209905 210616 211342 212054 212561 212940 213274 213976 214641\n",
            " 215877 216750 217432 218272 219106 219959 220627 221609 222439 223276\n",
            " 223965 224644 225866 227431 228363 228700 229006 229325 229599 229895\n",
            " 230174 230773 231326 231608 231896 232493 232782 233062 233348 233637\n",
            " 233934 234225 234558 234887 235189 235494 236091 236610 237623 238156\n",
            " 238483 239337 239854 240372 240896 241789 242694 243389 244109 244835\n",
            " 245726 246440 247147 247865 248600 249326 250051 250773 251482 251921\n",
            " 252211 252509 252744 253372 253660 254278 254571 254860 255147 255446\n",
            " 255737 256027 256314 256601 257166 257446 257734 258335 258521 258873\n",
            " 259157 259615 260025 260719 261065 261362 261658 261957 262540 262838\n",
            " 263139 263354 263723 264003 264302 264587 264882 265163 265457 265727\n",
            " 265938 266297 266590 267182 267385 268060 268337 268911 269183 269470\n",
            " 270068 270343 270931 271226 271526 271823 272089 272385 272663 272970\n",
            " 273553 273863 274162 274510 274836 275438 276203 276962 277890 278712\n",
            " 280021 281300 282277 283780 284271 284796 286138 286662 287191 288194\n",
            " 289730 290258 290794 291317 292668 293593 294404 294892 295404 295912\n",
            " 296424 297262 297638 298873 299425 300544 301446 302693 304471 306551\n",
            " 307440 308998 309690 310251 310771 311452 312133 313201 313895 314588\n",
            " 315665 316377 317494 318212 318923 320532 321589 323200 324087 324780\n",
            " 326602 326767 328597 328965 329286 329545 330144 330464 330768 331089\n",
            " 331367 331651 331950 332250 332564 332852 333066 333428 333746 334027\n",
            " 334304 334587 334889 335085 335750 336294 336955 337244 337536 337829\n",
            " 338133 338416 338713 339005 339298 339596 339869 340160 340448 340734\n",
            " 341023 341321 341908 342201 342494 342783 343081 343375 343697 344006\n",
            " 344301 344606 344893 345194 345486 345781 346356 346660 346927 347214\n",
            " 347503 347795 348087 348376 348671 349267 349553 349855 350144 350429\n",
            " 350752 351022 351324 351629 351940 352216 352528 352863 353672 354262\n",
            " 354579 354870 355172 355481 355789 356095 356405 356912 357230 357528\n",
            " 357837 358130 358432 358743 359039 359358 359635 359924 360211 360511\n",
            " 360802 361403 361693 362267 362562 362858 363356 363985 364848 365480\n",
            " 366636 368016 368410 368724 369024 369339 369650 370469 370951 371272\n",
            " 371880 372070 372757 373985 375296 376139 377278 377827 378818 379093\n",
            " 379572 380159 381959 382626 383833 384865 385563 385913 386927 387613\n",
            " 387985 388643 389335 390020 390709 391405 392083 392773 393472 394341\n",
            " 395400 396289 397442 398083 399868 400949 401643 402726 404525 406365\n",
            " 408168 408869 409696 409947 410218 410497 410790 411075 411355 411638\n",
            " 412536 413140 413701 414068 414368 414987 415606 416875 417205 417520\n",
            " 418106 418768 419086 419400 419706 420037 420354 420779 420997 421319\n",
            " 422075 422304 422654 423334 424037 424353 424851 425500 425816 426166\n",
            " 426665 427314 428125 428806 430032 430647 431649 432495 433334 434821\n",
            " 435866 437372 437896 438425 439424 440289 440813 441817 442344 443349\n",
            " 443841 445049 445374 445898 446431 447437 447975 448853 449397 449938\n",
            " 450941 451306 451808 453050 453951 454283 455005 455703 456411 457116\n",
            " 457827 458940 459461 460318 461177 461868]\n"
          ]
        }
      ]
    },
    {
      "cell_type": "code",
      "source": [
        "type(r_peaks)"
      ],
      "metadata": {
        "colab": {
          "base_uri": "https://localhost:8080/"
        },
        "id": "MNBlQD9nHyNv",
        "outputId": "5a0b0937-2a98-4951-d0dd-57f1cc8bfb6d"
      },
      "execution_count": 46,
      "outputs": [
        {
          "output_type": "execute_result",
          "data": {
            "text/plain": [
              "numpy.ndarray"
            ]
          },
          "metadata": {},
          "execution_count": 46
        }
      ]
    },
    {
      "cell_type": "code",
      "source": [
        "signal_I01 = pd.read_csv('/content/drive/MyDrive/ECG/incart_DB/Incart_csv/I01.csv')"
      ],
      "metadata": {
        "id": "apGL3CGLiJee"
      },
      "execution_count": 15,
      "outputs": []
    },
    {
      "cell_type": "code",
      "source": [
        "signal_I01 = signal_I01.to_numpy()"
      ],
      "metadata": {
        "id": "tbsksvr5iaNR"
      },
      "execution_count": 16,
      "outputs": []
    },
    {
      "cell_type": "code",
      "source": [
        "signal_I01.shape"
      ],
      "metadata": {
        "colab": {
          "base_uri": "https://localhost:8080/"
        },
        "id": "sdrb1sU3ib88",
        "outputId": "d4e0290b-9924-4c14-e4ba-6d74bd798a14"
      },
      "execution_count": 17,
      "outputs": [
        {
          "output_type": "execute_result",
          "data": {
            "text/plain": [
              "(462600, 1)"
            ]
          },
          "metadata": {},
          "execution_count": 17
        }
      ]
    },
    {
      "cell_type": "code",
      "source": [
        "signal_I01 = signal_I01.reshape((signal_I01.shape[0],))"
      ],
      "metadata": {
        "id": "mppIfNCxidzB"
      },
      "execution_count": 18,
      "outputs": []
    },
    {
      "cell_type": "code",
      "source": [
        "signal_I01.shape"
      ],
      "metadata": {
        "colab": {
          "base_uri": "https://localhost:8080/"
        },
        "id": "jBW-Sn28ifj-",
        "outputId": "668b00b5-3b0e-4f8b-e0e1-a4bbfbff6f1d"
      },
      "execution_count": 19,
      "outputs": [
        {
          "output_type": "execute_result",
          "data": {
            "text/plain": [
              "(462600,)"
            ]
          },
          "metadata": {},
          "execution_count": 19
        }
      ]
    },
    {
      "cell_type": "code",
      "source": [
        "r_peaks.shape"
      ],
      "metadata": {
        "colab": {
          "base_uri": "https://localhost:8080/"
        },
        "id": "9ZLUDY_fE_8R",
        "outputId": "ef5807f6-128e-4022-b8c2-504f6e4346a2"
      },
      "execution_count": 47,
      "outputs": [
        {
          "output_type": "execute_result",
          "data": {
            "text/plain": [
              "(976,)"
            ]
          },
          "metadata": {},
          "execution_count": 47
        }
      ]
    },
    {
      "cell_type": "code",
      "source": [
        "def swt1d(signal,N,mwvlt):\n",
        "\n",
        "    sig_len = len(signal)\n",
        "    signal = signal/max(signal);\n",
        "\n",
        "    signal_pad = power2pad(signal,N) # pad with zeros to make length as power of 2\n",
        "    pywvlt = pywt.Wavelet(mwvlt) # create PyWavelet object\n",
        "    swt_res = pywt.swt(signal_pad,pywvlt,N) # call Pywavelet's SWT\n",
        "\n",
        "    swa = np.zeros((N,sig_len))\n",
        "    swd = np.zeros((N,sig_len))\n",
        "\n",
        "    for i in range(N):\n",
        "        swa_temp = swt_res[N-i-1][0]\n",
        "        swa[i] = swa_temp[:sig_len]\n",
        "\n",
        "        swd_temp = swt_res[N-i-1][1]\n",
        "        swd[i] = swd_temp[:sig_len]\n",
        "\n",
        "    return swa,swd"
      ],
      "metadata": {
        "id": "icrnpKL6ihR_"
      },
      "execution_count": 29,
      "outputs": []
    },
    {
      "cell_type": "code",
      "source": [
        "def iswt1d(swa,swd,mwvlt):\n",
        "\n",
        "    n1 = swa.shape[0]\n",
        "    n2 = swd.shape[0]\n",
        "\n",
        "    if(n1 != n2):\n",
        "        error('SWA and SWD have different scales')\n",
        "\n",
        "    N = n1\n",
        "    pywvlt = pywt.Wavelet(mwvlt) # create PyWavelet object\n",
        "\n",
        "    iswt_list = list()\n",
        "\n",
        "    for i in range(N):\n",
        "\n",
        "        swa_temp = power2pad(swa[N-i-1],N)\n",
        "\n",
        "        swd_temp = power2pad(swd[N-i-1],N)\n",
        "        swt_temp = list((swa_temp,swd_temp))\n",
        "        iswt_list.append(swt_temp)\n",
        "\n",
        "\n",
        "    iswt_res = pywt.iswt(iswt_list,pywvlt) # call Pywavelet's ISWT\n",
        "\n",
        "    return iswt_res"
      ],
      "metadata": {
        "id": "hV1ATu0Jil6C"
      },
      "execution_count": 30,
      "outputs": []
    },
    {
      "cell_type": "code",
      "source": [
        "def power2pad(signal_act, def_N=11):\n",
        "\n",
        "    signal_pad = deepcopy(signal_act);\n",
        "    sig_len = signal_pad.shape[0]\n",
        "\n",
        "    N = int(np.log2(sig_len))\n",
        "\n",
        "    if(N < def_N):\n",
        "        zero_len = np.power(2,def_N) - sig_len\n",
        "\n",
        "        signal_pad = np.pad(signal_pad,pad_width=((0,zero_len)),mode='constant')\n",
        "    else:\n",
        "        zero_len = np.power(2,(N+1)) - sig_len\n",
        "\n",
        "        if(zero_len >= 1):\n",
        "            signal_pad = np.pad(signal_pad,pad_width=((0,zero_len)),mode='constant')\n",
        "\n",
        "    return signal_pad"
      ],
      "metadata": {
        "id": "Qo_8lcXDiniK"
      },
      "execution_count": 31,
      "outputs": []
    },
    {
      "cell_type": "code",
      "source": [
        "def plot_fft(x,Fs,sc=0):\n",
        "\n",
        "    xfft = np.fft.fft(x);\n",
        "    xfft_abs = abs(xfft);\n",
        "\n",
        "    if(sc):\n",
        "        xfft_abs = xfft_abs/(max(xfft_abs));\n",
        "\n",
        "    t = np.arange(len(x))/Fs;\n",
        "\n",
        "    no_samples = t.shape[0];\n",
        "    div = no_samples/Fs;\n",
        "\n",
        "    freq = np.arange(0,len(x)/(2*div),step=1/div);\n",
        "\n",
        "    xfft_abs = xfft_abs[1:int(len(x)/2)+1];\n",
        "\n",
        "    return xfft_abs,freq[:xfft_abs.shape[0]]"
      ],
      "metadata": {
        "id": "QkqHevrNjILv"
      },
      "execution_count": 32,
      "outputs": []
    },
    {
      "cell_type": "code",
      "source": [
        "def scale_nonmax(ecg_seg,Fs):\n",
        "\n",
        "    seg_locs,_ = find_peaks(abs(ecg_seg),distance=np.ceil(0.25*Fs))\n",
        "\n",
        "    if not seg_locs.shape[0]:\n",
        "        ecg_sc =  ecg_seg/max(abs(ecg_seg))\n",
        "        return ecg_sc\n",
        "\n",
        "    seg_pks = abs(ecg_seg[seg_locs])\n",
        "    seg_pks_sort = np.sort(seg_pks)\n",
        "\n",
        "    if(seg_pks_sort.shape[0] < 10):\n",
        "        seg_pks_sort10 = seg_pks_sort\n",
        "    else:\n",
        "        seg_pks_sort10 = seg_pks_sort[-10:]\n",
        "\n",
        "    sc_fctr = np.median(seg_pks_sort10)\n",
        "\n",
        "    ecg_sc = ecg_seg/sc_fctr\n",
        "\n",
        "    return ecg_sc"
      ],
      "metadata": {
        "id": "6hl8Err4jLpV"
      },
      "execution_count": 33,
      "outputs": []
    },
    {
      "cell_type": "code",
      "source": [
        "def get_ecgwin(ecg,win,Fs,sc=0):\n",
        "\n",
        "    ecg_len = ecg.shape[0]\n",
        "\n",
        "    no_win = int(ecg_len/win)\n",
        "\n",
        "    ecg_win = np.zeros((no_win,int(win)))\n",
        "\n",
        "    for k in range(no_win):\n",
        "\n",
        "        st = int(k*win)\n",
        "        fi = int((k+1)*win)\n",
        "\n",
        "        temp = deepcopy(ecg[st:fi])\n",
        "        if sc:\n",
        "            if(sc == 1):\n",
        "                temp = temp/max(abs(temp))\n",
        "            else:\n",
        "                temp = scale_nonmax(temp,Fs)\n",
        "\n",
        "        ecg_win[k,:] = temp\n",
        "\n",
        "    return ecg_win"
      ],
      "metadata": {
        "id": "GBLyIaCKjbAk"
      },
      "execution_count": 34,
      "outputs": []
    },
    {
      "cell_type": "code",
      "source": [
        "def clean_ecg_swt(ecg,modify=False,emswd=False):\n",
        "\n",
        "    Fs = 360\n",
        "    ecg_len = len(ecg)\n",
        "\n",
        "    N = 9  # SWT levels\n",
        "    mwvlt = 'db3'  # Daubechies3 mother wavelet\n",
        "    _,swd = swt1d(ecg,N,mwvlt)\n",
        "\n",
        "    swd2 = deepcopy(swd)\n",
        "\n",
        "    ## swd[4,...] actually refers to level-5 coefficients\n",
        "    ## swd[3,...] refers to level-4 coefficients\n",
        "\n",
        "    swd4 = deepcopy(swd[3,:ecg_len])\n",
        "\n",
        "    # Minimize false beat detection (unusually large tT-waves in particular) by minimizing effect of level-5 coefficients\n",
        "    if(modify):\n",
        "\n",
        "        c = deepcopy(swd[4,:])\n",
        "        e = c*np.abs(c)\n",
        "\n",
        "        len_seg = 10*Fs\n",
        "\n",
        "        for i in range(0,ecg_len,len_seg):\n",
        "\n",
        "            fi = np.min((i+len_seg,ecg_len))\n",
        "            temp_e = e[i:fi]\n",
        "            temp_s = swd[4,i:fi]\n",
        "\n",
        "            e[i:fi] = temp_e/np.max(np.abs(temp_e))*np.max(np.abs(temp_s))\n",
        "\n",
        "        swd[4,:] = e\n",
        "\n",
        "    swd1 = deepcopy(swd)\n",
        "\n",
        "    # Nullify detail coefficients corresponding to frequencies lower than 0.7Hz\n",
        "    if(N > 7):\n",
        "        swd1[8:,:] = 0\n",
        "\n",
        "    # Reconstruct the baseline wander removed signal\n",
        "    swa1 = np.zeros((N,ecg_len))\n",
        "    recons = iswt1d(swa1,swd1,mwvlt)\n",
        "    recons = recons*np.max(ecg)\n",
        "\n",
        "    ecg_bw_rem = recons[:ecg_len]\n",
        "\n",
        "    # Reconstruct anouther signal wiht only SWT level 6 and 7 coefficients to be used in EM noise analysis\n",
        "    if not emswd:\n",
        "        swd67 = np.zeros(ecg_len)\n",
        "    else:\n",
        "        swd2[:5,:] = 0\n",
        "        swd2[7:,:] = 0\n",
        "        swa2 = np.zeros((N,ecg_len))\n",
        "        swd67 = iswt1d(swa2,swd2,mwvlt)\n",
        "        swd67 = swd67[:ecg_len]\n",
        "\n",
        "    return ecg_bw_rem,swd4,swd67"
      ],
      "metadata": {
        "id": "tLj6nGWSjjbr"
      },
      "execution_count": 35,
      "outputs": []
    },
    {
      "cell_type": "code",
      "source": [
        "def cae_denoise(ecg,modify=False,emswd=False):\n",
        "\n",
        "    Fs = 360 # sampling frequency\n",
        "    den_inputlen = 232\n",
        "    trunc_len = 5\n",
        "    act_len = ecg.shape[0] # actual length of input ECG\n",
        "\n",
        "    # Baseline wander (BW) removal using SWT\n",
        "    ecg_bw_rem,swd4,swd67 = clean_ecg_swt(ecg,modify,emswd)\n",
        "\n",
        "    # Scale the BW-removed signal in blocks of 10s\n",
        "    sc_win = 10*Fs\n",
        "    ecg_wintemp = get_ecgwin(ecg_bw_rem,sc_win,Fs,2)\n",
        "    no_10s = ecg_wintemp.shape[0]\n",
        "    len_ecg = len(ecg_bw_rem)\n",
        "    tot_10s = no_10s*sc_win\n",
        "\n",
        "    ecg1 = np.array([])\n",
        "\n",
        "    for i1 in range(no_10s):\n",
        "        ecg_seg = deepcopy(ecg_wintemp[i1,:])\n",
        "        ecg1 = np.append(ecg1,(modify+1)*ecg_seg,axis = 0)\n",
        "\n",
        "    if(len_ecg > tot_10s):\n",
        "\n",
        "        ecg_seg = deepcopy(ecg_bw_rem[tot_10s:len_ecg])\n",
        "        ecg_seg = scale_nonmax(ecg_seg,Fs)\n",
        "\n",
        "        ecg1 = np.append(ecg1,(modify+1)*ecg_seg,axis = 0)\n",
        "\n",
        "    # Copy the scaled signal to another variable and append zeros at the end\n",
        "    hp_filt = deepcopy(ecg1)\n",
        "    hp_filt = np.append(hp_filt,np.zeros(den_inputlen),axis=0)\n",
        "\n",
        "    hp_len = hp_filt.shape[0]\n",
        "\n",
        "    # Prepare data for removing high frequency noise using DCAE model.\n",
        "    # This involves dividing the input into an array of shape (?,232) using a sliding window of 2*trunc_len\n",
        "\n",
        "    m = 0\n",
        "\n",
        "    temp1 = np.array([])\n",
        "\n",
        "    while(m < hp_len):\n",
        "        temp = deepcopy(hp_filt[m:min(hp_len,m+den_inputlen)])\n",
        "\n",
        "        if(len(temp) < den_inputlen):\n",
        "            temp = np.pad(temp,pad_width=(0,(den_inputlen-len(temp))),mode='constant')\n",
        "            break\n",
        "\n",
        "        if not m:\n",
        "            temp1 = deepcopy(temp.reshape(1,den_inputlen))\n",
        "        else:\n",
        "            temp1 = np.append(temp1,temp.reshape(1,den_inputlen),axis = 0)\n",
        "\n",
        "        m = m + den_inputlen-(2*trunc_len)\n",
        "\n",
        "\n",
        "    temp1 = temp1.reshape(temp1.shape[0],temp1.shape[1],1)\n",
        "\n",
        "    K.clear_session() # clear keras session\n",
        "\n",
        "    # Load Denoising CAE model\n",
        "    denoise_model = load_model('/content/drive/MyDrive/ECG/cae_denoise.h5')\n",
        "\n",
        "    # Denoised output of shape (?,232)\n",
        "    temp2 = denoise_model.predict(temp1)\n",
        "\n",
        "    no_seg = temp2.shape[0]\n",
        "\n",
        "    # Reshape the Mx232 back to a 1D-array\n",
        "    # This is the final cleaned signal (BW + HF-noise removed)\n",
        "\n",
        "    for i in range(no_seg):\n",
        "        if not i:\n",
        "            temp = temp2[i,:den_inputlen-trunc_len] # exclude last <trunc_len> samples\n",
        "\n",
        "        else:\n",
        "            if(i == (no_seg-1)):\n",
        "                temp = temp2[i,trunc_len:]\n",
        "            else:\n",
        "                temp = temp2[i,trunc_len:den_inputlen-trunc_len] # exclude first and last <trunc_len> samples\n",
        "\n",
        "        temp = temp[:,0]\n",
        "\n",
        "        if not i:\n",
        "            ecg_clean = temp\n",
        "        else:\n",
        "            ecg_clean = np.append(ecg_clean,temp,axis=0)\n",
        "\n",
        "    ecg_clean = ecg_clean[:act_len]\n",
        "    swd4 = swd4[:ecg_clean.shape[0]]\n",
        "\n",
        "    return ecg_clean,swd4,swd67"
      ],
      "metadata": {
        "id": "MzhhvChSjr2t"
      },
      "execution_count": 36,
      "outputs": []
    },
    {
      "cell_type": "code",
      "source": [
        "# Denoised Function Call\n",
        "ecg_clean,swd4,swd67 = cae_denoise(signal_I01,modify=False,emswd=False)"
      ],
      "metadata": {
        "colab": {
          "base_uri": "https://localhost:8080/"
        },
        "id": "4cnR4ROTjzlP",
        "outputId": "3f4cbcc2-afe2-4721-cefe-a05832859918"
      },
      "execution_count": 37,
      "outputs": [
        {
          "output_type": "stream",
          "name": "stdout",
          "text": [
            "66/66 [==============================] - 2s 20ms/step\n"
          ]
        }
      ]
    },
    {
      "cell_type": "code",
      "source": [
        "plt.figure(figsize=(10, 5))\n",
        "clean_ecg_signal = ecg_clean\n",
        "swd41 = swd4\n",
        "plt.plot(clean_ecg_signal,label='ecg_clean')\n",
        "plt.plot(swd41,label='swd4')\n",
        "plt.plot(swd67,label='swd67')\n",
        "plt.legend()\n",
        "plt.show()"
      ],
      "metadata": {
        "colab": {
          "base_uri": "https://localhost:8080/",
          "height": 445
        },
        "id": "-cUkTKajkbZl",
        "outputId": "36b2f26a-0885-4e18-cd6a-439ddcb23862"
      },
      "execution_count": 38,
      "outputs": [
        {
          "output_type": "display_data",
          "data": {
            "text/plain": [
              "<Figure size 1000x500 with 1 Axes>"
            ],
            "image/png": "[encoded data removed]"
          },
          "metadata": {}
        }
      ]
    },
    {
      "cell_type": "code",
      "source": [
        "# Base Wander removel Function Call\n",
        "bw_removed_signal,swd41,swd671 = clean_ecg_swt(signal_I01,modify=False,emswd=False)"
      ],
      "metadata": {
        "id": "UJQ0afYuJyJb"
      },
      "execution_count": 39,
      "outputs": []
    },
    {
      "cell_type": "code",
      "source": [
        "plt.figure(figsize=(10, 5))\n",
        "bw_removed_signal = bw_removed_signal\n",
        "swd42 = swd41\n",
        "swd671 = swd67\n",
        "plt.plot(bw_removed_signal,label='bw_removed_signal')\n",
        "plt.plot(swd42,label='swd4')\n",
        "plt.plot(swd671,label='swd67')\n",
        "plt.legend()\n",
        "plt.show()"
      ],
      "metadata": {
        "colab": {
          "base_uri": "https://localhost:8080/",
          "height": 445
        },
        "id": "ozKD55UFKZKH",
        "outputId": "8d011f62-77f2-4ec1-9a41-a3bdc2349331"
      },
      "execution_count": 40,
      "outputs": [
        {
          "output_type": "display_data",
          "data": {
            "text/plain": [
              "<Figure size 1000x500 with 1 Axes>"
            ],
            "image/png": "[encoded data removed]"
          },
          "metadata": {}
        }
      ]
    },
    {
      "cell_type": "code",
      "source": [
        "ecg_clean"
      ],
      "metadata": {
        "colab": {
          "base_uri": "https://localhost:8080/"
        },
        "id": "GzaPfVqvlIP3",
        "outputId": "f12f9c70-07b5-4d2e-f596-166f0c24b768"
      },
      "execution_count": 41,
      "outputs": [
        {
          "output_type": "execute_result",
          "data": {
            "text/plain": [
              "array([-0.01062253, -0.01779279, -0.01735074, ...,  2.1296186 ,\n",
              "        1.6953319 ,  1.3519763 ], dtype=float32)"
            ]
          },
          "metadata": {},
          "execution_count": 41
        }
      ]
    },
    {
      "cell_type": "code",
      "source": [
        "ecg_clean.shape"
      ],
      "metadata": {
        "colab": {
          "base_uri": "https://localhost:8080/"
        },
        "id": "4kC4WPANmMNi",
        "outputId": "4297cf5f-4d58-4897-80cc-48348ba70ccd"
      },
      "execution_count": 42,
      "outputs": [
        {
          "output_type": "execute_result",
          "data": {
            "text/plain": [
              "(462600,)"
            ]
          },
          "metadata": {},
          "execution_count": 42
        }
      ]
    },
    {
      "cell_type": "code",
      "source": [
        "swd4.shape"
      ],
      "metadata": {
        "colab": {
          "base_uri": "https://localhost:8080/"
        },
        "id": "vDhUXx4Z2UsC",
        "outputId": "95802ea1-7551-4141-fc5a-e53982d83e6f"
      },
      "execution_count": 43,
      "outputs": [
        {
          "output_type": "execute_result",
          "data": {
            "text/plain": [
              "(462600,)"
            ]
          },
          "metadata": {},
          "execution_count": 43
        }
      ]
    },
    {
      "cell_type": "code",
      "source": [
        "swd67.shape"
      ],
      "metadata": {
        "colab": {
          "base_uri": "https://localhost:8080/"
        },
        "id": "Y5lMABr_2Xnw",
        "outputId": "925eca9d-a02b-41e2-b5ef-03863fb22b29"
      },
      "execution_count": 44,
      "outputs": [
        {
          "output_type": "execute_result",
          "data": {
            "text/plain": [
              "(462600,)"
            ]
          },
          "metadata": {},
          "execution_count": 44
        }
      ]
    },
    {
      "cell_type": "code",
      "source": [
        "def em_noise(ecg,swd,vtvf_flag,swd67,ecg_orig,fs):\n",
        "\n",
        "    Fs = 360\n",
        "    win = 10*Fs\n",
        "\n",
        "    # Prepare data for EM noise classification using CNN model\n",
        "    ecg_win = get_ecgwin(ecg,win,Fs,1)\n",
        "    ecg_orig_win = get_ecgwin(ecg_orig,10*fs,fs,1)\n",
        "    swd_win = get_ecgwin(swd,win,Fs,1)\n",
        "    swd67_win = get_ecgwin(swd67,win,Fs,1)\n",
        "\n",
        "    ecg_win = ecg_win.reshape(ecg_win.shape[0],ecg_win.shape[1],1)\n",
        "    swd_win = swd_win.reshape(swd_win.shape[0],swd_win.shape[1],1)\n",
        "    ecg_inp = np.append(ecg_win,swd_win,axis = 2)\n",
        "\n",
        "    K.clear_session()  # clear keras session\n",
        "\n",
        "    # Load CNN model and predict\n",
        "    em_model = load_model('em_noise_model_swd.h5')\n",
        "    em_pred = em_model.predict(ecg_inp)\n",
        "    em_pred = em_pred[:,1]\n",
        "    em_ind = np.zeros(em_pred.shape[0])\n",
        "    em_ind[np.where(em_pred >= 0.9)[0]] = 1\n",
        "\n",
        "    em1 = np.where(em_ind == 1)[0]\n",
        "\n",
        "    # Account for sustained VT/VF presence that was undetected by the VT/VF algorithm\n",
        "    for i in em1:\n",
        "\n",
        "        a = ecg_win[i,:,0]\n",
        "        a = a/max(abs(a))\n",
        "        b = swd67_win[i,:]\n",
        "        b = b/max(abs(b))\n",
        "\n",
        "        r = np.correlate(a,b,mode='full')\n",
        "        if(max(r) > 400):\n",
        "            em_ind[i] = 0\n",
        "\n",
        "    em0 = np.where(em_ind == 0)[0]\n",
        "\n",
        "    # Check for flatline artifacts\n",
        "    for i in em0:\n",
        "\n",
        "        a = ecg_orig_win[i,:]\n",
        "        a_diff  = np.diff(a)\n",
        "\n",
        "        [a_loc,a_len] = cu.getCons(a_diff,0,length=0.25*fs,exactly=0)\n",
        "\n",
        "        if(a_loc.size):\n",
        "            if(sum(a_len) > fs):\n",
        "                em_ind[i] = 1\n",
        "                continue\n",
        "\n",
        "    if(em_ind.shape[0] < vtvf_flag.shape[0]):\n",
        "        em_ind = np.append(em_ind,np.zeros(vtvf_flag.shape[0] - em_ind.shape[0]),axis = 0)\n",
        "\n",
        "    # Remove EM noise classification for segments containing VT/VF episodes\n",
        "    em_ind[np.where(vtvf_flag == 1)[0]] = 0\n",
        "\n",
        "    # Compute EM noise episode onsets, offset and duration\n",
        "    em_loc, em_len = cu.getCons(em_ind,1)\n",
        "\n",
        "    em_arr = np.array([])\n",
        "    dur_em = 0\n",
        "\n",
        "    for i in range(em_loc.shape[0]):\n",
        "        st_em = em_loc[i]*win\n",
        "        fi_em = (em_loc[i] + em_len[i])*win\n",
        "        st_fi = np.array([st_em,fi_em])\n",
        "        st_fi = st_fi.reshape(1,st_fi.shape[0])\n",
        "\n",
        "        if not em_arr.size:\n",
        "            em_arr = st_fi\n",
        "        else:\n",
        "            em_arr = np.append(em_arr,st_fi,axis=0)\n",
        "\n",
        "        dur_em += (fi_em - st_em) + 1\n",
        "\n",
        "    return em_ind,em_arr,dur_em,em_pred"
      ],
      "metadata": {
        "id": "hVPm_QhDnKrC"
      },
      "execution_count": 48,
      "outputs": []
    },
    {
      "cell_type": "code",
      "source": [
        "# EM Function call\n"
      ],
      "metadata": {
        "id": "-mJ0qr3u26zh"
      },
      "execution_count": 49,
      "outputs": []
    },
    {
      "cell_type": "code",
      "source": [
        "def pvc_features(ecg,locs):\n",
        "\n",
        "    Fs = 360 # default sampling frequency\n",
        "\n",
        "    l_win = int(np.floor(0.25*Fs))\n",
        "    r_win = int(np.ceil(0.40*Fs))\n",
        "\n",
        "    l_win1 = int(np.floor(0.125*Fs))\n",
        "    r_win1 = int(np.ceil(0.125*Fs))\n",
        "\n",
        "    rr = np.append(0, np.diff(locs)) # RR-interval series\n",
        "    sdrr = np.append(np.array([0, 0]), ((rr[2:] - rr[1:-1])/rr[1:-1])*100) # percentage change in successive difference of RR-intervals (SDRR)\n",
        "\n",
        "    pvc_feat = np.array([])\n",
        "\n",
        "    i = 1\n",
        "    inv = []\n",
        "\n",
        "    while i < (locs.shape[0]-1):\n",
        "\n",
        "        locs_ind = int(locs[i])\n",
        "\n",
        "        l_st = locs_ind - l_win\n",
        "        r_fi = locs_ind + r_win + 1\n",
        "\n",
        "        # Raw ECG beat segment (235 samples) --> segment P\n",
        "        seg_P = ecg[l_st:r_fi]\n",
        "        seg_P = seg_P/max(abs(seg_P))\n",
        "\n",
        "        # ECG beat segment for manual extraction --> Segment Q\n",
        "        seg_Q = ecg[locs_ind - l_win1:locs_ind + r_win1 - 1]\n",
        "\n",
        "        if i < 2:\n",
        "            seg_Q_old = deepcopy(seg_Q) # store beat template for next iteration\n",
        "\n",
        "            i += 1\n",
        "            continue\n",
        "\n",
        "        # Feature 1: Heart rate\n",
        "        hr = Fs*60/rr[i]\n",
        "\n",
        "        # Feature 2: Percentage change in SDRR\n",
        "        rr_diff = sdrr[i]\n",
        "\n",
        "        # Feature 3: Pearson's Correlation coefficient between current beat segment and previous beat segment (segment Q)\n",
        "        ccf = np.corrcoef(seg_Q_old,seg_Q)\n",
        "\n",
        "        # Crosscorrelation between current beat segment and previous beat segment (segment Q)\n",
        "        corrseq = np.correlate(seg_Q_old,seg_Q,'full')\n",
        "        corrseq = corrseq/max(abs(corrseq))\n",
        "\n",
        "        # Feature 4: Skewness of crosscorrelation\n",
        "        skewval = skew(corrseq)\n",
        "\n",
        "        if len(seg_P) < 235:\n",
        "            seg_P = np.append(seg_P,np.zeros(235-len(seg_P)))\n",
        "            inv.append(i)\n",
        "\n",
        "        # Concatenate beat segment P with the four manually computed features\n",
        "        seg_feat = np.append(seg_P,np.array([hr,rr_diff,ccf[0][1],skewval]),axis=0)\n",
        "\n",
        "        # Check for NaNs and inifinity\n",
        "        if True in np.isnan(seg_feat):\n",
        "            seg_feat = np.zeros(239)\n",
        "            inv.append(i)\n",
        "\n",
        "        if True in np.isinf(seg_feat):\n",
        "            seg_feat = np.zeros(239)\n",
        "            inv.append(i)\n",
        "\n",
        "        seg_feat = seg_feat.reshape(1,seg_feat.shape[0])\n",
        "\n",
        "        # Update feature matrix\n",
        "        if not pvc_feat.size:\n",
        "            pvc_feat = seg_feat\n",
        "        else:\n",
        "            pvc_feat = np.append(pvc_feat,seg_feat,axis=0)\n",
        "\n",
        "        i += 1\n",
        "        seg_Q_old = deepcopy(seg_Q) # store beat template for next iteration\n",
        "\n",
        "    return pvc_feat,inv"
      ],
      "metadata": {
        "id": "Tcoaq6Qx26rg"
      },
      "execution_count": 50,
      "outputs": []
    },
    {
      "cell_type": "code",
      "source": [
        "# PVC Features Function call\n",
        "pvcfeat,invalid_beats =  pvc_features(ecg_clean,r_peaks)"
      ],
      "metadata": {
        "id": "Zw6eBlfcoqED"
      },
      "execution_count": 51,
      "outputs": []
    },
    {
      "cell_type": "code",
      "source": [
        "pvcfeat.shape"
      ],
      "metadata": {
        "colab": {
          "base_uri": "https://localhost:8080/"
        },
        "id": "pyvsJWDRADim",
        "outputId": "a43c651c-afab-4f7c-ad9c-8627c75b1e06"
      },
      "execution_count": 52,
      "outputs": [
        {
          "output_type": "execute_result",
          "data": {
            "text/plain": [
              "(973, 239)"
            ]
          },
          "metadata": {},
          "execution_count": 52
        }
      ]
    },
    {
      "cell_type": "code",
      "source": [
        "invalid_beats"
      ],
      "metadata": {
        "colab": {
          "base_uri": "https://localhost:8080/"
        },
        "id": "PV0Ql_mEDTa4",
        "outputId": "9fe9d779-6ec2-4117-88b3-4e8df778361e"
      },
      "execution_count": 53,
      "outputs": [
        {
          "output_type": "execute_result",
          "data": {
            "text/plain": [
              "[]"
            ]
          },
          "metadata": {},
          "execution_count": 53
        }
      ]
    },
    {
      "cell_type": "code",
      "source": [
        "def ae_clf_loss_fn(input_len,mean_vec,input_layer_ae):\n",
        "\n",
        "    def ae_clf_loss(y_true,y_pred):\n",
        "        recons_loss = mse(y_true,y_pred) # reconstruction loss\n",
        "        recons_loss *= input_len\n",
        "        total_grad_loss = 0\n",
        "\n",
        "        for i in range(K.int_shape(mean_vec)[1]):\n",
        "            for j in range(i+1,K.int_shape(mean_vec)[1]):\n",
        "\n",
        "                x = K.gradients(mean_vec[...,i],input_layer_ae)[0]\n",
        "                xmax = K.max(x)\n",
        "\n",
        "                y = K.gradients(mean_vec[...,j],input_layer_ae)[0]\n",
        "                ymax = K.max(y)\n",
        "\n",
        "                x /= (K.maximum(xmax,ymax) + K.epsilon())\n",
        "                y /= (K.maximum(xmax,ymax) + K.epsilon())\n",
        "\n",
        "                mx = K.mean(x)\n",
        "                my = K.mean(y)\n",
        "\n",
        "                xm, ym = x-mx, y-my\n",
        "\n",
        "                r_num = K.sum(tf.multiply(xm,ym),axis = -1)\n",
        "                r_den = K.sqrt(tf.multiply(K.sum(K.square(xm),axis=-1), K.sum(K.square(ym),axis=-1)))\n",
        "                r = r_num / r_den\n",
        "\n",
        "                grad_loss = K.square(K.clip(r,-1.0,1.0))\n",
        "\n",
        "                total_grad_loss += grad_loss\n",
        "\n",
        "        return K.mean(recons_loss + total_grad_loss)\n",
        "\n",
        "    return ae_clf_loss"
      ],
      "metadata": {
        "id": "UPc80hlMoX7A"
      },
      "execution_count": 54,
      "outputs": []
    },
    {
      "cell_type": "code",
      "source": [
        "def acc_se(y_true,y_pred):\n",
        "\n",
        "    y_true1 = K.cast(y_true[:,1],dtype='float32')\n",
        "    y_pred1 = K.cast(K.argmax(y_pred,axis=1),dtype='float32')\n",
        "    tp = K.cast(K.sum(K.round(y_true1 * y_pred1)),dtype='float32')\n",
        "    act_pos = K.cast(K.sum(K.round(y_true1)),dtype='float32')\n",
        "    se = tp/(act_pos + K.epsilon())\n",
        "    return se\n",
        "\n",
        "def acc_ppv(y_true,y_pred):\n",
        "\n",
        "    y_true1 = K.cast(y_true[:,1],dtype='float32')\n",
        "    y_pred1 = K.cast(K.argmax(y_pred,axis=1),dtype='float32')\n",
        "    tp = K.cast(K.sum(K.round(y_true1 * y_pred1)),dtype='float32')\n",
        "    pred_pos = K.sum(K.round(y_pred1))\n",
        "    pred_pos = K.cast(pred_pos,dtype='float32')\n",
        "    ppv = tp/(pred_pos + K.epsilon())\n",
        "\n",
        "    return ppv\n",
        "\n",
        "def acc_f1(y_true,y_pred):\n",
        "\n",
        "    se = acc_se(y_true,y_pred)\n",
        "    ppv = acc_ppv(y_true,y_pred)\n",
        "    f1 = 2*((se*ppv)/(ppv+se+K.epsilon()))\n",
        "    return f1"
      ],
      "metadata": {
        "id": "lRpqdRtkohU9"
      },
      "execution_count": 55,
      "outputs": []
    },
    {
      "cell_type": "code",
      "source": [
        "def create_ae_model(input_len_ae,input_len_clf,latent_dim,use_feat,activation_fn='relu'):\n",
        "\n",
        "    # encoder\n",
        "    input_layer_ae = Input(shape=(input_len_ae,),name='input_layer_ae')\n",
        "    x = Dense(128,activation=activation_fn)(input_layer_ae)\n",
        "    x = Dense(64,activation=activation_fn)(x)\n",
        "    enc_vec = Dense(latent_dim,name='enc_emb')(x)\n",
        "\n",
        "    enc = Model(input_layer_ae,enc_vec,name='ae_enc')\n",
        "\n",
        "    # decoder\n",
        "    latent_vars = Input(shape=(latent_dim,),name='enc_op')\n",
        "    x = Dense(64,activation=activation_fn)(latent_vars)\n",
        "    x = Dense(128,activation=activation_fn)(x)\n",
        "    output_layer = Dense(input_len_ae,activation='tanh')(x)\n",
        "    dec = Model(latent_vars,output_layer,name='ae_dec')\n",
        "    output = dec(enc(input_layer_ae))\n",
        "\n",
        "    # classifier\n",
        "    if use_feat:\n",
        "        input_layer_clf = Input(shape=(input_len_clf,),name='input_layer_clf')\n",
        "        input_layer_enc = Input(shape=(latent_dim,),name='input_layer_enc')\n",
        "        enc_vec_feat = concatenate([input_layer_clf,input_layer_enc])\n",
        "        x_clf = Dense(5,activation='relu')(enc_vec_feat)\n",
        "    else:\n",
        "        input_layer_enc = Input(shape=(latent_dim,),name='input_layer_enc')\n",
        "        x_clf = Dense(5,activation='relu')(input_layer_enc)\n",
        "\n",
        "    x_clf = Dense(4,activation='relu')(x_clf)\n",
        "    x_clf = Dense(3,activation='relu')(x_clf)\n",
        "    x_clf = Dense(2,activation='softmax',name='classifier')(x_clf)\n",
        "\n",
        "    if use_feat:\n",
        "        clf = Model([input_layer_clf,input_layer_enc],x_clf,name='vae_feat_classifier')\n",
        "        output_clf = clf([input_layer_clf,enc(input_layer_ae)])\n",
        "        ae_model = Model(inputs = [input_layer_ae,input_layer_clf], outputs = [output,output_clf])\n",
        "    else:\n",
        "        clf = Model(input_layer_enc,x_clf,name='vae_feat_classifier')\n",
        "        output_clf = clf(enc(input_layer_ae))\n",
        "        ae_model = Model(inputs = input_layer_ae, outputs = [output,output_clf])\n",
        "\n",
        "    # compile with custom loss function\n",
        "    ae_model.compile(optimizer=tf.keras.optimizers.legacy.Adam(0.001),\n",
        "                      loss=[ae_clf_loss_fn(input_len_ae,enc_vec,input_layer_ae),'binary_crossentropy'],\n",
        "                      metrics=['accuracy',acc_f1])\n",
        "    # ae_model.compile(optimizer=Adam(learning_rate=0.001), loss=MeanSquaredError())\n",
        "\n",
        "    return ae_model"
      ],
      "metadata": {
        "id": "pwcWoZEHJCW6"
      },
      "execution_count": 56,
      "outputs": []
    },
    {
      "cell_type": "code",
      "source": [
        "# Create ae-model Function Call\n",
        "raw_ecg_len = 235 # length of raw ECG\n",
        "manual_feat = 4 # number of manual features\n",
        "latent_dim = 3 # number of encodings\n",
        "use_feat = 1\n",
        "model_ae = create_ae_model(raw_ecg_len,manual_feat,latent_dim,use_feat)"
      ],
      "metadata": {
        "id": "oYKJGBdSyBE1"
      },
      "execution_count": 57,
      "outputs": []
    },
    {
      "cell_type": "code",
      "source": [
        "model_ae"
      ],
      "metadata": {
        "colab": {
          "base_uri": "https://localhost:8080/"
        },
        "id": "yTYkiRunyfZh",
        "outputId": "e5426499-7312-41c4-8eda-1b46f67e5396"
      },
      "execution_count": 58,
      "outputs": [
        {
          "output_type": "execute_result",
          "data": {
            "text/plain": [
              "<keras.engine.functional.Functional at 0x7fdcfa7c9630>"
            ]
          },
          "metadata": {},
          "execution_count": 58
        }
      ]
    },
    {
      "cell_type": "code",
      "source": [
        "from sklearn.model_selection import train_test_split\n",
        "\n",
        "X_val_all, Y_train = train_test_split(pvcfeat, test_size=0.2, random_state=32)\n"
      ],
      "metadata": {
        "id": "QY-oKKSXenH8"
      },
      "execution_count": 59,
      "outputs": []
    },
    {
      "cell_type": "code",
      "source": [
        "X_val_all.shape"
      ],
      "metadata": {
        "colab": {
          "base_uri": "https://localhost:8080/"
        },
        "id": "G8nK9t9TyPyt",
        "outputId": "95526a4e-2601-4646-dc98-d01ef3636614"
      },
      "execution_count": 60,
      "outputs": [
        {
          "output_type": "execute_result",
          "data": {
            "text/plain": [
              "(778, 239)"
            ]
          },
          "metadata": {},
          "execution_count": 60
        }
      ]
    },
    {
      "cell_type": "code",
      "source": [
        "Y_train.shape"
      ],
      "metadata": {
        "colab": {
          "base_uri": "https://localhost:8080/"
        },
        "id": "6MNrUJDIyPkm",
        "outputId": "99b83855-0738-4923-ec82-801ddd9573c1"
      },
      "execution_count": 61,
      "outputs": [
        {
          "output_type": "execute_result",
          "data": {
            "text/plain": [
              "(195, 239)"
            ]
          },
          "metadata": {},
          "execution_count": 61
        }
      ]
    },
    {
      "cell_type": "code",
      "source": [
        "X_train_all = Y_train"
      ],
      "metadata": {
        "id": "MMxjzu7_y2Ry"
      },
      "execution_count": 62,
      "outputs": []
    },
    {
      "cell_type": "code",
      "source": [
        "X_train_all.shape"
      ],
      "metadata": {
        "colab": {
          "base_uri": "https://localhost:8080/"
        },
        "id": "U3AgGUl3zI_M",
        "outputId": "a7f90551-64f9-4f74-f7a2-2b854a5a4802"
      },
      "execution_count": 63,
      "outputs": [
        {
          "output_type": "execute_result",
          "data": {
            "text/plain": [
              "(195, 239)"
            ]
          },
          "metadata": {},
          "execution_count": 63
        }
      ]
    },
    {
      "cell_type": "code",
      "source": [
        "Y_val = X_val_all"
      ],
      "metadata": {
        "id": "QxcklCc-y1-m"
      },
      "execution_count": 64,
      "outputs": []
    },
    {
      "cell_type": "code",
      "source": [
        "Y_val.shape"
      ],
      "metadata": {
        "colab": {
          "base_uri": "https://localhost:8080/"
        },
        "id": "XGfKXSyHy18U",
        "outputId": "478ee6f4-1441-4fed-b4cb-9792a6fe798b"
      },
      "execution_count": 65,
      "outputs": [
        {
          "output_type": "execute_result",
          "data": {
            "text/plain": [
              "(778, 239)"
            ]
          },
          "metadata": {},
          "execution_count": 65
        }
      ]
    },
    {
      "cell_type": "code",
      "source": [
        "Y_train_c = to_categorical(Y_train)"
      ],
      "metadata": {
        "id": "C8wwLT5Wy15G"
      },
      "execution_count": 66,
      "outputs": []
    },
    {
      "cell_type": "code",
      "source": [
        "Y_train_c.shape"
      ],
      "metadata": {
        "colab": {
          "base_uri": "https://localhost:8080/"
        },
        "id": "VwgiX3xRy12b",
        "outputId": "b9f869c2-3b4a-469c-800c-01d17dc4e271"
      },
      "execution_count": 67,
      "outputs": [
        {
          "output_type": "execute_result",
          "data": {
            "text/plain": [
              "(195, 239, 240)"
            ]
          },
          "metadata": {},
          "execution_count": 67
        }
      ]
    },
    {
      "cell_type": "code",
      "source": [
        "Y_val_c = to_categorical(Y_val)"
      ],
      "metadata": {
        "id": "WBBd8mJ9y1zs"
      },
      "execution_count": 68,
      "outputs": []
    },
    {
      "cell_type": "code",
      "source": [
        "Y_val_c.shape"
      ],
      "metadata": {
        "colab": {
          "base_uri": "https://localhost:8080/"
        },
        "id": "s8mblgxVy1xC",
        "outputId": "da13ea5b-1099-4b42-c6c2-64fbc09a42e6"
      },
      "execution_count": 69,
      "outputs": [
        {
          "output_type": "execute_result",
          "data": {
            "text/plain": [
              "(778, 239, 8917)"
            ]
          },
          "metadata": {},
          "execution_count": 69
        }
      ]
    },
    {
      "cell_type": "code",
      "source": [
        "X_train = X_train_all[:,:235]\n",
        "X_train_clf = X_train_all[:,235:]\n",
        "Y_train = to_categorical(Y_train)\n",
        "X_val = X_val_all[:,:235]\n",
        "X_val_clf = X_val_all[:,253:]\n",
        "Y_val = to_categorical(Y_val)"
      ],
      "metadata": {
        "id": "jagSOcKEy1t8"
      },
      "execution_count": 70,
      "outputs": []
    },
    {
      "cell_type": "code",
      "source": [
        "import numpy as np\n",
        "from sklearn.ensemble import RandomForestClassifier\n",
        "from sklearn.model_selection import PredefinedSplit\n",
        "from sklearn.model_selection import GridSearchCV\n",
        "from keras.utils import to_categorical\n",
        "from sklearn.metrics import confusion_matrix\n",
        "from sklearn.metrics import classification_report\n",
        "import pickle\n",
        "from keras.callbacks import ModelCheckpoint, TensorBoard\n",
        "import keras\n",
        "import tensorflow as tf\n",
        "import keras.backend as K\n",
        "from sklearn.preprocessing import OneHotEncoder\n",
        "from keras.utils import to_categorical\n",
        "from tensorflow.keras.models import Model"
      ],
      "metadata": {
        "id": "0080puqiy1rF"
      },
      "execution_count": 71,
      "outputs": []
    },
    {
      "cell_type": "code",
      "source": [
        "import matplotlib.pyplot as plt\n",
        "from tensorflow.keras.layers import Input,Dense,BatchNormalization,Activation,Lambda,concatenate\n",
        "from tensorflow.keras.losses import mse, binary_crossentropy\n",
        "from tensorflow.keras import backend as K"
      ],
      "metadata": {
        "id": "e3RiCVwzy1oZ"
      },
      "execution_count": 72,
      "outputs": []
    },
    {
      "cell_type": "code",
      "source": [
        "history = model_ae.fit([X_train,X_train_clf],[X_train,Y_train_c],\n",
        "                    epochs=5,\n",
        "                    batch_size=128,\n",
        "                    shuffle=True,\n",
        "                    validation_data=([X_val,X_val_clf],[X_val,Y_val_c]))"
      ],
      "metadata": {
        "colab": {
          "base_uri": "https://localhost:8080/",
          "height": 710
        },
        "id": "Wdh2ECwpdhi4",
        "outputId": "2badf67a-d0b7-40b4-fc1f-f4b6982b08b4"
      },
      "execution_count": 73,
      "outputs": [
        {
          "output_type": "stream",
          "name": "stdout",
          "text": [
            "Epoch 1/5\n"
          ]
        },
        {
          "output_type": "error",
          "ename": "TypeError",
          "evalue": "ignored",
          "traceback": [
            "\u001b[0;31m---------------------------------------------------------------------------\u001b[0m",
            "\u001b[0;31mTypeError\u001b[0m                                 Traceback (most recent call last)",
            "\u001b[0;32m<ipython-input-73-6cd8c9984e83>\u001b[0m in \u001b[0;36m<cell line: 1>\u001b[0;34m()\u001b[0m\n\u001b[0;32m----> 1\u001b[0;31m history = model_ae.fit([X_train,X_train_clf],[X_train,Y_train_c],\n\u001b[0m\u001b[1;32m      2\u001b[0m                     \u001b[0mepochs\u001b[0m\u001b[0;34m=\u001b[0m\u001b[0;36m5\u001b[0m\u001b[0;34m,\u001b[0m\u001b[0;34m\u001b[0m\u001b[0;34m\u001b[0m\u001b[0m\n\u001b[1;32m      3\u001b[0m                     \u001b[0mbatch_size\u001b[0m\u001b[0;34m=\u001b[0m\u001b[0;36m128\u001b[0m\u001b[0;34m,\u001b[0m\u001b[0;34m\u001b[0m\u001b[0;34m\u001b[0m\u001b[0m\n\u001b[1;32m      4\u001b[0m                     \u001b[0mshuffle\u001b[0m\u001b[0;34m=\u001b[0m\u001b[0;32mTrue\u001b[0m\u001b[0;34m,\u001b[0m\u001b[0;34m\u001b[0m\u001b[0;34m\u001b[0m\u001b[0m\n\u001b[1;32m      5\u001b[0m                     validation_data=([X_val,X_val_clf],[X_val,Y_val_c]))\n",
            "\u001b[0;32m/usr/local/lib/python3.10/dist-packages/keras/utils/traceback_utils.py\u001b[0m in \u001b[0;36merror_handler\u001b[0;34m(*args, **kwargs)\u001b[0m\n\u001b[1;32m     68\u001b[0m             \u001b[0;31m# To get the full stack trace, call:\u001b[0m\u001b[0;34m\u001b[0m\u001b[0;34m\u001b[0m\u001b[0m\n\u001b[1;32m     69\u001b[0m             \u001b[0;31m# `tf.debugging.disable_traceback_filtering()`\u001b[0m\u001b[0;34m\u001b[0m\u001b[0;34m\u001b[0m\u001b[0m\n\u001b[0;32m---> 70\u001b[0;31m             \u001b[0;32mraise\u001b[0m \u001b[0me\u001b[0m\u001b[0;34m.\u001b[0m\u001b[0mwith_traceback\u001b[0m\u001b[0;34m(\u001b[0m\u001b[0mfiltered_tb\u001b[0m\u001b[0;34m)\u001b[0m \u001b[0;32mfrom\u001b[0m \u001b[0;32mNone\u001b[0m\u001b[0;34m\u001b[0m\u001b[0;34m\u001b[0m\u001b[0m\n\u001b[0m\u001b[1;32m     71\u001b[0m         \u001b[0;32mfinally\u001b[0m\u001b[0;34m:\u001b[0m\u001b[0;34m\u001b[0m\u001b[0;34m\u001b[0m\u001b[0m\n\u001b[1;32m     72\u001b[0m             \u001b[0;32mdel\u001b[0m \u001b[0mfiltered_tb\u001b[0m\u001b[0;34m\u001b[0m\u001b[0;34m\u001b[0m\u001b[0m\n",
            "\u001b[0;32m/usr/local/lib/python3.10/dist-packages/keras/engine/training.py\u001b[0m in \u001b[0;36mtf__train_function\u001b[0;34m(iterator)\u001b[0m\n\u001b[1;32m     13\u001b[0m                 \u001b[0;32mtry\u001b[0m\u001b[0;34m:\u001b[0m\u001b[0;34m\u001b[0m\u001b[0;34m\u001b[0m\u001b[0m\n\u001b[1;32m     14\u001b[0m                     \u001b[0mdo_return\u001b[0m \u001b[0;34m=\u001b[0m \u001b[0;32mTrue\u001b[0m\u001b[0;34m\u001b[0m\u001b[0;34m\u001b[0m\u001b[0m\n\u001b[0;32m---> 15\u001b[0;31m                     \u001b[0mretval_\u001b[0m \u001b[0;34m=\u001b[0m \u001b[0mag__\u001b[0m\u001b[0;34m.\u001b[0m\u001b[0mconverted_call\u001b[0m\u001b[0;34m(\u001b[0m\u001b[0mag__\u001b[0m\u001b[0;34m.\u001b[0m\u001b[0mld\u001b[0m\u001b[0;34m(\u001b[0m\u001b[0mstep_function\u001b[0m\u001b[0;34m)\u001b[0m\u001b[0;34m,\u001b[0m \u001b[0;34m(\u001b[0m\u001b[0mag__\u001b[0m\u001b[0;34m.\u001b[0m\u001b[0mld\u001b[0m\u001b[0;34m(\u001b[0m\u001b[0mself\u001b[0m\u001b[0;34m)\u001b[0m\u001b[0;34m,\u001b[0m \u001b[0mag__\u001b[0m\u001b[0;34m.\u001b[0m\u001b[0mld\u001b[0m\u001b[0;34m(\u001b[0m\u001b[0miterator\u001b[0m\u001b[0;34m)\u001b[0m\u001b[0;34m)\u001b[0m\u001b[0;34m,\u001b[0m \u001b[0;32mNone\u001b[0m\u001b[0;34m,\u001b[0m \u001b[0mfscope\u001b[0m\u001b[0;34m)\u001b[0m\u001b[0;34m\u001b[0m\u001b[0;34m\u001b[0m\u001b[0m\n\u001b[0m\u001b[1;32m     16\u001b[0m                 \u001b[0;32mexcept\u001b[0m\u001b[0;34m:\u001b[0m\u001b[0;34m\u001b[0m\u001b[0;34m\u001b[0m\u001b[0m\n\u001b[1;32m     17\u001b[0m                     \u001b[0mdo_return\u001b[0m \u001b[0;34m=\u001b[0m \u001b[0;32mFalse\u001b[0m\u001b[0;34m\u001b[0m\u001b[0;34m\u001b[0m\u001b[0m\n",
            "\u001b[0;32m/tmp/__autograph_generated_fileqs3e3ulg.py\u001b[0m in \u001b[0;36mtf__ae_clf_loss\u001b[0;34m(y_true, y_pred)\u001b[0m\n\u001b[1;32m     69\u001b[0m                 \u001b[0mj\u001b[0m \u001b[0;34m=\u001b[0m \u001b[0mag__\u001b[0m\u001b[0;34m.\u001b[0m\u001b[0mUndefined\u001b[0m\u001b[0;34m(\u001b[0m\u001b[0;34m'j'\u001b[0m\u001b[0;34m)\u001b[0m\u001b[0;34m\u001b[0m\u001b[0;34m\u001b[0m\u001b[0m\n\u001b[1;32m     70\u001b[0m                 \u001b[0mmy\u001b[0m \u001b[0;34m=\u001b[0m \u001b[0mag__\u001b[0m\u001b[0;34m.\u001b[0m\u001b[0mUndefined\u001b[0m\u001b[0;34m(\u001b[0m\u001b[0;34m'my'\u001b[0m\u001b[0;34m)\u001b[0m\u001b[0;34m\u001b[0m\u001b[0;34m\u001b[0m\u001b[0m\n\u001b[0;32m---> 71\u001b[0;31m                 \u001b[0mag__\u001b[0m\u001b[0;34m.\u001b[0m\u001b[0mfor_stmt\u001b[0m\u001b[0;34m(\u001b[0m\u001b[0mag__\u001b[0m\u001b[0;34m.\u001b[0m\u001b[0mconverted_call\u001b[0m\u001b[0;34m(\u001b[0m\u001b[0mag__\u001b[0m\u001b[0;34m.\u001b[0m\u001b[0mld\u001b[0m\u001b[0;34m(\u001b[0m\u001b[0mrange\u001b[0m\u001b[0;34m)\u001b[0m\u001b[0;34m,\u001b[0m \u001b[0;34m(\u001b[0m\u001b[0mag__\u001b[0m\u001b[0;34m.\u001b[0m\u001b[0mconverted_call\u001b[0m\u001b[0;34m(\u001b[0m\u001b[0mag__\u001b[0m\u001b[0;34m.\u001b[0m\u001b[0mld\u001b[0m\u001b[0;34m(\u001b[0m\u001b[0mK\u001b[0m\u001b[0;34m)\u001b[0m\u001b[0;34m.\u001b[0m\u001b[0mint_shape\u001b[0m\u001b[0;34m,\u001b[0m \u001b[0;34m(\u001b[0m\u001b[0mag__\u001b[0m\u001b[0;34m.\u001b[0m\u001b[0mld\u001b[0m\u001b[0;34m(\u001b[0m\u001b[0mmean_vec\u001b[0m\u001b[0;34m)\u001b[0m\u001b[0;34m,\u001b[0m\u001b[0;34m)\u001b[0m\u001b[0;34m,\u001b[0m \u001b[0;32mNone\u001b[0m\u001b[0;34m,\u001b[0m \u001b[0mfscope\u001b[0m\u001b[0;34m)\u001b[0m\u001b[0;34m[\u001b[0m\u001b[0;36m1\u001b[0m\u001b[0;34m]\u001b[0m\u001b[0;34m,\u001b[0m\u001b[0;34m)\u001b[0m\u001b[0;34m,\u001b[0m \u001b[0;32mNone\u001b[0m\u001b[0;34m,\u001b[0m \u001b[0mfscope\u001b[0m\u001b[0;34m)\u001b[0m\u001b[0;34m,\u001b[0m \u001b[0;32mNone\u001b[0m\u001b[0;34m,\u001b[0m \u001b[0mloop_body_1\u001b[0m\u001b[0;34m,\u001b[0m \u001b[0mget_state_1\u001b[0m\u001b[0;34m,\u001b[0m \u001b[0mset_state_1\u001b[0m\u001b[0;34m,\u001b[0m \u001b[0;34m(\u001b[0m\u001b[0;34m'total_grad_loss'\u001b[0m\u001b[0;34m,\u001b[0m\u001b[0;34m)\u001b[0m\u001b[0;34m,\u001b[0m \u001b[0;34m{\u001b[0m\u001b[0;34m'iterate_names'\u001b[0m\u001b[0;34m:\u001b[0m \u001b[0;34m'i'\u001b[0m\u001b[0;34m}\u001b[0m\u001b[0;34m)\u001b[0m\u001b[0;34m\u001b[0m\u001b[0;34m\u001b[0m\u001b[0m\n\u001b[0m\u001b[1;32m     72\u001b[0m                 \u001b[0;32mtry\u001b[0m\u001b[0;34m:\u001b[0m\u001b[0;34m\u001b[0m\u001b[0;34m\u001b[0m\u001b[0m\n\u001b[1;32m     73\u001b[0m                     \u001b[0mdo_return\u001b[0m \u001b[0;34m=\u001b[0m \u001b[0;32mTrue\u001b[0m\u001b[0;34m\u001b[0m\u001b[0;34m\u001b[0m\u001b[0m\n",
            "\u001b[0;32m/tmp/__autograph_generated_fileqs3e3ulg.py\u001b[0m in \u001b[0;36mloop_body_1\u001b[0;34m(itr_1)\u001b[0m\n\u001b[1;32m     54\u001b[0m                         \u001b[0mtotal_grad_loss\u001b[0m \u001b[0;34m=\u001b[0m \u001b[0mag__\u001b[0m\u001b[0;34m.\u001b[0m\u001b[0mld\u001b[0m\u001b[0;34m(\u001b[0m\u001b[0mtotal_grad_loss\u001b[0m\u001b[0;34m)\u001b[0m\u001b[0;34m\u001b[0m\u001b[0;34m\u001b[0m\u001b[0m\n\u001b[1;32m     55\u001b[0m                         \u001b[0mtotal_grad_loss\u001b[0m \u001b[0;34m+=\u001b[0m \u001b[0mgrad_loss\u001b[0m\u001b[0;34m\u001b[0m\u001b[0;34m\u001b[0m\u001b[0m\n\u001b[0;32m---> 56\u001b[0;31m                     \u001b[0mag__\u001b[0m\u001b[0;34m.\u001b[0m\u001b[0mfor_stmt\u001b[0m\u001b[0;34m(\u001b[0m\u001b[0mag__\u001b[0m\u001b[0;34m.\u001b[0m\u001b[0mconverted_call\u001b[0m\u001b[0;34m(\u001b[0m\u001b[0mag__\u001b[0m\u001b[0;34m.\u001b[0m\u001b[0mld\u001b[0m\u001b[0;34m(\u001b[0m\u001b[0mrange\u001b[0m\u001b[0;34m)\u001b[0m\u001b[0;34m,\u001b[0m \u001b[0;34m(\u001b[0m\u001b[0mag__\u001b[0m\u001b[0;34m.\u001b[0m\u001b[0mld\u001b[0m\u001b[0;34m(\u001b[0m\u001b[0mi\u001b[0m\u001b[0;34m)\u001b[0m \u001b[0;34m+\u001b[0m \u001b[0;36m1\u001b[0m\u001b[0;34m,\u001b[0m \u001b[0mag__\u001b[0m\u001b[0;34m.\u001b[0m\u001b[0mconverted_call\u001b[0m\u001b[0;34m(\u001b[0m\u001b[0mag__\u001b[0m\u001b[0;34m.\u001b[0m\u001b[0mld\u001b[0m\u001b[0;34m(\u001b[0m\u001b[0mK\u001b[0m\u001b[0;34m)\u001b[0m\u001b[0;34m.\u001b[0m\u001b[0mint_shape\u001b[0m\u001b[0;34m,\u001b[0m \u001b[0;34m(\u001b[0m\u001b[0mag__\u001b[0m\u001b[0;34m.\u001b[0m\u001b[0mld\u001b[0m\u001b[0;34m(\u001b[0m\u001b[0mmean_vec\u001b[0m\u001b[0;34m)\u001b[0m\u001b[0;34m,\u001b[0m\u001b[0;34m)\u001b[0m\u001b[0;34m,\u001b[0m \u001b[0;32mNone\u001b[0m\u001b[0;34m,\u001b[0m \u001b[0mfscope\u001b[0m\u001b[0;34m)\u001b[0m\u001b[0;34m[\u001b[0m\u001b[0;36m1\u001b[0m\u001b[0;34m]\u001b[0m\u001b[0;34m)\u001b[0m\u001b[0;34m,\u001b[0m \u001b[0;32mNone\u001b[0m\u001b[0;34m,\u001b[0m \u001b[0mfscope\u001b[0m\u001b[0;34m)\u001b[0m\u001b[0;34m,\u001b[0m \u001b[0;32mNone\u001b[0m\u001b[0;34m,\u001b[0m \u001b[0mloop_body\u001b[0m\u001b[0;34m,\u001b[0m \u001b[0mget_state\u001b[0m\u001b[0;34m,\u001b[0m \u001b[0mset_state\u001b[0m\u001b[0;34m,\u001b[0m \u001b[0;34m(\u001b[0m\u001b[0;34m'total_grad_loss'\u001b[0m\u001b[0;34m,\u001b[0m\u001b[0;34m)\u001b[0m\u001b[0;34m,\u001b[0m \u001b[0;34m{\u001b[0m\u001b[0;34m'iterate_names'\u001b[0m\u001b[0;34m:\u001b[0m \u001b[0;34m'j'\u001b[0m\u001b[0;34m}\u001b[0m\u001b[0;34m)\u001b[0m\u001b[0;34m\u001b[0m\u001b[0;34m\u001b[0m\u001b[0m\n\u001b[0m\u001b[1;32m     57\u001b[0m                 \u001b[0mgrad_loss\u001b[0m \u001b[0;34m=\u001b[0m \u001b[0mag__\u001b[0m\u001b[0;34m.\u001b[0m\u001b[0mUndefined\u001b[0m\u001b[0;34m(\u001b[0m\u001b[0;34m'grad_loss'\u001b[0m\u001b[0;34m)\u001b[0m\u001b[0;34m\u001b[0m\u001b[0;34m\u001b[0m\u001b[0m\n\u001b[1;32m     58\u001b[0m                 \u001b[0mxmax\u001b[0m \u001b[0;34m=\u001b[0m \u001b[0mag__\u001b[0m\u001b[0;34m.\u001b[0m\u001b[0mUndefined\u001b[0m\u001b[0;34m(\u001b[0m\u001b[0;34m'xmax'\u001b[0m\u001b[0;34m)\u001b[0m\u001b[0;34m\u001b[0m\u001b[0;34m\u001b[0m\u001b[0m\n",
            "\u001b[0;32m/tmp/__autograph_generated_fileqs3e3ulg.py\u001b[0m in \u001b[0;36mloop_body\u001b[0;34m(itr)\u001b[0m\n\u001b[1;32m     37\u001b[0m                         \u001b[0;32mnonlocal\u001b[0m \u001b[0mtotal_grad_loss\u001b[0m\u001b[0;34m\u001b[0m\u001b[0;34m\u001b[0m\u001b[0m\n\u001b[1;32m     38\u001b[0m                         \u001b[0mj\u001b[0m \u001b[0;34m=\u001b[0m \u001b[0mitr\u001b[0m\u001b[0;34m\u001b[0m\u001b[0;34m\u001b[0m\u001b[0m\n\u001b[0;32m---> 39\u001b[0;31m                         \u001b[0mx\u001b[0m \u001b[0;34m=\u001b[0m \u001b[0mag__\u001b[0m\u001b[0;34m.\u001b[0m\u001b[0mconverted_call\u001b[0m\u001b[0;34m(\u001b[0m\u001b[0mag__\u001b[0m\u001b[0;34m.\u001b[0m\u001b[0mld\u001b[0m\u001b[0;34m(\u001b[0m\u001b[0mK\u001b[0m\u001b[0;34m)\u001b[0m\u001b[0;34m.\u001b[0m\u001b[0mgradients\u001b[0m\u001b[0;34m,\u001b[0m \u001b[0;34m(\u001b[0m\u001b[0mag__\u001b[0m\u001b[0;34m.\u001b[0m\u001b[0mld\u001b[0m\u001b[0;34m(\u001b[0m\u001b[0mmean_vec\u001b[0m\u001b[0;34m)\u001b[0m\u001b[0;34m[\u001b[0m\u001b[0;34m...\u001b[0m\u001b[0;34m,\u001b[0m \u001b[0mag__\u001b[0m\u001b[0;34m.\u001b[0m\u001b[0mld\u001b[0m\u001b[0;34m(\u001b[0m\u001b[0mi\u001b[0m\u001b[0;34m)\u001b[0m\u001b[0;34m]\u001b[0m\u001b[0;34m,\u001b[0m \u001b[0mag__\u001b[0m\u001b[0;34m.\u001b[0m\u001b[0mld\u001b[0m\u001b[0;34m(\u001b[0m\u001b[0minput_layer_ae\u001b[0m\u001b[0;34m)\u001b[0m\u001b[0;34m)\u001b[0m\u001b[0;34m,\u001b[0m \u001b[0;32mNone\u001b[0m\u001b[0;34m,\u001b[0m \u001b[0mfscope\u001b[0m\u001b[0;34m)\u001b[0m\u001b[0;34m[\u001b[0m\u001b[0;36m0\u001b[0m\u001b[0;34m]\u001b[0m\u001b[0;34m\u001b[0m\u001b[0;34m\u001b[0m\u001b[0m\n\u001b[0m\u001b[1;32m     40\u001b[0m                         \u001b[0mxmax\u001b[0m \u001b[0;34m=\u001b[0m \u001b[0mag__\u001b[0m\u001b[0;34m.\u001b[0m\u001b[0mconverted_call\u001b[0m\u001b[0;34m(\u001b[0m\u001b[0mag__\u001b[0m\u001b[0;34m.\u001b[0m\u001b[0mld\u001b[0m\u001b[0;34m(\u001b[0m\u001b[0mK\u001b[0m\u001b[0;34m)\u001b[0m\u001b[0;34m.\u001b[0m\u001b[0mmax\u001b[0m\u001b[0;34m,\u001b[0m \u001b[0;34m(\u001b[0m\u001b[0mag__\u001b[0m\u001b[0;34m.\u001b[0m\u001b[0mld\u001b[0m\u001b[0;34m(\u001b[0m\u001b[0mx\u001b[0m\u001b[0;34m)\u001b[0m\u001b[0;34m,\u001b[0m\u001b[0;34m)\u001b[0m\u001b[0;34m,\u001b[0m \u001b[0;32mNone\u001b[0m\u001b[0;34m,\u001b[0m \u001b[0mfscope\u001b[0m\u001b[0;34m)\u001b[0m\u001b[0;34m\u001b[0m\u001b[0;34m\u001b[0m\u001b[0m\n\u001b[1;32m     41\u001b[0m                         \u001b[0my\u001b[0m \u001b[0;34m=\u001b[0m \u001b[0mag__\u001b[0m\u001b[0;34m.\u001b[0m\u001b[0mconverted_call\u001b[0m\u001b[0;34m(\u001b[0m\u001b[0mag__\u001b[0m\u001b[0;34m.\u001b[0m\u001b[0mld\u001b[0m\u001b[0;34m(\u001b[0m\u001b[0mK\u001b[0m\u001b[0;34m)\u001b[0m\u001b[0;34m.\u001b[0m\u001b[0mgradients\u001b[0m\u001b[0;34m,\u001b[0m \u001b[0;34m(\u001b[0m\u001b[0mag__\u001b[0m\u001b[0;34m.\u001b[0m\u001b[0mld\u001b[0m\u001b[0;34m(\u001b[0m\u001b[0mmean_vec\u001b[0m\u001b[0;34m)\u001b[0m\u001b[0;34m[\u001b[0m\u001b[0;34m...\u001b[0m\u001b[0;34m,\u001b[0m \u001b[0mag__\u001b[0m\u001b[0;34m.\u001b[0m\u001b[0mld\u001b[0m\u001b[0;34m(\u001b[0m\u001b[0mj\u001b[0m\u001b[0;34m)\u001b[0m\u001b[0;34m]\u001b[0m\u001b[0;34m,\u001b[0m \u001b[0mag__\u001b[0m\u001b[0;34m.\u001b[0m\u001b[0mld\u001b[0m\u001b[0;34m(\u001b[0m\u001b[0minput_layer_ae\u001b[0m\u001b[0;34m)\u001b[0m\u001b[0;34m)\u001b[0m\u001b[0;34m,\u001b[0m \u001b[0;32mNone\u001b[0m\u001b[0;34m,\u001b[0m \u001b[0mfscope\u001b[0m\u001b[0;34m)\u001b[0m\u001b[0;34m[\u001b[0m\u001b[0;36m0\u001b[0m\u001b[0;34m]\u001b[0m\u001b[0;34m\u001b[0m\u001b[0;34m\u001b[0m\u001b[0m\n",
            "\u001b[0;31mTypeError\u001b[0m: in user code:\n\n    File \"/usr/local/lib/python3.10/dist-packages/keras/engine/training.py\", line 1284, in train_function  *\n        return step_function(self, iterator)\n    File \"<ipython-input-54-01af227316ab>\", line 11, in ae_clf_loss  *\n        x = K.gradients(mean_vec[...,i],input_layer_ae)[0]\n    File \"/usr/local/lib/python3.10/dist-packages/keras/backend.py\", line 4694, in gradients  **\n        return tf.compat.v1.gradients(\n    File \"/usr/local/lib/python3.10/dist-packages/keras/engine/keras_tensor.py\", line 283, in __array__\n        raise TypeError(\n\n    TypeError: You are passing KerasTensor(type_spec=TensorSpec(shape=(None,), dtype=tf.float32, name=None), name='tf.__operators__.getitem/strided_slice:0', description=\"created by layer 'tf.__operators__.getitem'\"), an intermediate Keras symbolic input/output, to a TF API that does not allow registering custom dispatchers, such as `tf.cond`, `tf.function`, gradient tapes, or `tf.map_fn`. Keras Functional model construction only supports TF API calls that *do* support dispatching, such as `tf.math.add` or `tf.reshape`. Other APIs cannot be called directly on symbolic Kerasinputs/outputs. You can work around this limitation by putting the operation in a custom Keras layer `call` and calling that layer on this symbolic input/output.\n"
          ]
        }
      ]
    },
    {
      "cell_type": "code",
      "source": [
        "def beatClassify(ecg,loc,inv_beats,pvc_thr):\n",
        "    K.clear_session() # clear keras session\n",
        "\n",
        "    pvc_mdl3 = '/content/drive/MyDrive/ECG/pvc_3beats.h5' # 3-beat PVC detection model\n",
        "\n",
        "    raw_ecg_len = 235 # length of raw ECG\n",
        "    manual_feat = 4 # number of manual features\n",
        "    latent_dim = 3 # number of encodings\n",
        "    use_feat = 1\n",
        "\n",
        "    # Create SSAE network\n",
        "    ae_model = create_ae_model(raw_ecg_len,manual_feat,latent_dim,use_feat)\n",
        "\n",
        "    # Load model weights for the SSAE network\n",
        "    ae_model.load_weights(pvc_mdl3)\n",
        "    full_model = Model(inputs=ae_model.inputs,outputs=ae_model.outputs[1])\n",
        "\n",
        "    # Create a new model that extracts the encoding layer's output\n",
        "    vae_enc = ae_model.get_layer('ae_enc')\n",
        "    enc_model = Model(inputs = vae_enc.inputs, outputs = vae_enc.outputs)\n",
        "\n",
        "    # Compute manual features that will be part of the SSAE network's input\n",
        "    feat,inv = pvc_features(ecg,loc)\n",
        "\n",
        "    # Extract two inputs for the SSAE network --> (i) Raw ECG and (ii) manual features\n",
        "    x_raw = feat[:,:235]\n",
        "    x_feat = feat[:,235:239]\n",
        "\n",
        "    # Compute the 3-dimensional encodings and concatenate them with manual features\n",
        "    z_val = enc_model.predict(x_raw)\n",
        "    z_feat = np.c_[z_val,x_feat]\n",
        "\n",
        "    # Load RF model for final PVC classification and predict\n",
        "    rf_mdl = pickle.load(open('/content/drive/MyDrive/ECG/pvc_clf_rf.sav','rb'))\n",
        "    pvc_score = rf_mdl.predict_proba(z_feat)\n",
        "    pvc_pred = np.zeros(pvc_score.shape[0])\n",
        "    pvc_pred[np.where(pvc_score[:,1] >= pvc_thr)[0]] = 1\n",
        "\n",
        "    pvc_pred = np.append(np.append(np.zeros(2,),pvc_pred),0) # the first two beats and last beat are labeled non-PVC\n",
        "    pvc_score = np.append(np.append(np.zeros((2,2)),pvc_score,axis = 0),np.zeros((1,2)),axis = 0)\n",
        "\n",
        "    # Check for invalid beats\n",
        "    inv = np.unique(inv)\n",
        "    inv = [int(ii) for ii in inv] # required for suppressing errors if inv is empty\n",
        "\n",
        "    inv_ind = np.where(inv_beats==1)[0]\n",
        "    inv_ind = [int(ii) for ii in inv_ind]\n",
        "\n",
        "    pvc_pred[inv] = 0\n",
        "    pvc_pred[inv_ind] = 0\n",
        "\n",
        "    return pvc_pred,pvc_score[:,1]"
      ],
      "metadata": {
        "id": "83VvuJ2zDXQQ"
      },
      "execution_count": 108,
      "outputs": []
    },
    {
      "cell_type": "code",
      "source": [
        "pip install sklearn"
      ],
      "metadata": {
        "colab": {
          "base_uri": "https://localhost:8080/"
        },
        "id": "japGD8REMUEg",
        "outputId": "4ae4b4c3-2d36-401e-d6df-1d93a9df722f"
      },
      "execution_count": 61,
      "outputs": [
        {
          "output_type": "stream",
          "name": "stdout",
          "text": [
            "Looking in indexes: https://pypi.org/simple, https://us-python.pkg.dev/colab-wheels/public/simple/\n",
            "Collecting sklearn\n",
            "  Downloading sklearn-0.0.post5.tar.gz (3.7 kB)\n",
            "  Preparing metadata (setup.py) ... \u001b[?25l\u001b[?25hdone\n",
            "Building wheels for collected packages: sklearn\n",
            "  Building wheel for sklearn (setup.py) ... \u001b[?25l\u001b[?25hdone\n",
            "  Created wheel for sklearn: filename=sklearn-0.0.post5-py3-none-any.whl size=2950 sha256=854fab1e8ae744c225b5cbaedd1326d47aeb5e40748542730cc8678687b37a7b\n",
            "  Stored in directory: /root/.cache/pip/wheels/38/1f/8d/4f812c590e074c1e928f5cec67bf5053b71f38e2648739403a\n",
            "Successfully built sklearn\n",
            "Installing collected packages: sklearn\n",
            "Successfully installed sklearn-0.0.post5\n"
          ]
        }
      ]
    },
    {
      "cell_type": "code",
      "source": [
        "pvc_predic,pvc_sco = beatClassify(ecg_clean,r_peaks,invalid_beats,100)"
      ],
      "metadata": {
        "colab": {
          "base_uri": "https://localhost:8080/",
          "height": 443
        },
        "id": "ym1u0wkpJaD4",
        "outputId": "eff99504-8110-4e22-ea22-5c00f0aa40a0"
      },
      "execution_count": 76,
      "outputs": [
        {
          "output_type": "stream",
          "name": "stdout",
          "text": [
            "25/25 [==============================] - 0s 983us/step\n"
          ]
        },
        {
          "output_type": "error",
          "ename": "ModuleNotFoundError",
          "evalue": "ignored",
          "traceback": [
            "\u001b[0;31m---------------------------------------------------------------------------\u001b[0m",
            "\u001b[0;31mModuleNotFoundError\u001b[0m                       Traceback (most recent call last)",
            "\u001b[0;32m<ipython-input-76-401e9f9089ea>\u001b[0m in \u001b[0;36m<cell line: 1>\u001b[0;34m()\u001b[0m\n\u001b[0;32m----> 1\u001b[0;31m \u001b[0mpvc_predic\u001b[0m\u001b[0;34m,\u001b[0m\u001b[0mpvc_sco\u001b[0m \u001b[0;34m=\u001b[0m \u001b[0mbeatClassify\u001b[0m\u001b[0;34m(\u001b[0m\u001b[0mecg_clean\u001b[0m\u001b[0;34m,\u001b[0m\u001b[0mr_peaks\u001b[0m\u001b[0;34m,\u001b[0m\u001b[0minvalid_beats\u001b[0m\u001b[0;34m,\u001b[0m\u001b[0;36m100\u001b[0m\u001b[0;34m)\u001b[0m\u001b[0;34m\u001b[0m\u001b[0;34m\u001b[0m\u001b[0m\n\u001b[0m",
            "\u001b[0;32m<ipython-input-75-9e63b205e8be>\u001b[0m in \u001b[0;36mbeatClassify\u001b[0;34m(ecg, loc, inv_beats, pvc_thr)\u001b[0m\n\u001b[1;32m     32\u001b[0m \u001b[0;34m\u001b[0m\u001b[0m\n\u001b[1;32m     33\u001b[0m     \u001b[0;31m# Load RF model for final PVC classification and predict\u001b[0m\u001b[0;34m\u001b[0m\u001b[0;34m\u001b[0m\u001b[0m\n\u001b[0;32m---> 34\u001b[0;31m     \u001b[0mrf_mdl\u001b[0m \u001b[0;34m=\u001b[0m \u001b[0mpickle\u001b[0m\u001b[0;34m.\u001b[0m\u001b[0mload\u001b[0m\u001b[0;34m(\u001b[0m\u001b[0mopen\u001b[0m\u001b[0;34m(\u001b[0m\u001b[0;34m'/content/drive/MyDrive/ECG/pvc_clf_rf.sav'\u001b[0m\u001b[0;34m,\u001b[0m\u001b[0;34m'rb'\u001b[0m\u001b[0;34m)\u001b[0m\u001b[0;34m)\u001b[0m\u001b[0;34m\u001b[0m\u001b[0;34m\u001b[0m\u001b[0m\n\u001b[0m\u001b[1;32m     35\u001b[0m     \u001b[0mpvc_score\u001b[0m \u001b[0;34m=\u001b[0m \u001b[0mrf_mdl\u001b[0m\u001b[0;34m.\u001b[0m\u001b[0mpredict_proba\u001b[0m\u001b[0;34m(\u001b[0m\u001b[0mz_feat\u001b[0m\u001b[0;34m)\u001b[0m\u001b[0;34m\u001b[0m\u001b[0;34m\u001b[0m\u001b[0m\n\u001b[1;32m     36\u001b[0m     \u001b[0mpvc_pred\u001b[0m \u001b[0;34m=\u001b[0m \u001b[0mnp\u001b[0m\u001b[0;34m.\u001b[0m\u001b[0mzeros\u001b[0m\u001b[0;34m(\u001b[0m\u001b[0mpvc_score\u001b[0m\u001b[0;34m.\u001b[0m\u001b[0mshape\u001b[0m\u001b[0;34m[\u001b[0m\u001b[0;36m0\u001b[0m\u001b[0;34m]\u001b[0m\u001b[0;34m)\u001b[0m\u001b[0;34m\u001b[0m\u001b[0;34m\u001b[0m\u001b[0m\n",
            "\u001b[0;31mModuleNotFoundError\u001b[0m: No module named 'sklearn.ensemble.forest'",
            "",
            "\u001b[0;31m---------------------------------------------------------------------------\u001b[0;32m\nNOTE: If your import is failing due to a missing package, you can\nmanually install dependencies using either !pip or !apt.\n\nTo view examples of installing some common dependencies, click the\n\"Open Examples\" button below.\n\u001b[0;31m---------------------------------------------------------------------------\u001b[0m\n"
          ],
          "errorDetails": {
            "actions": [
              {
                "action": "open_url",
                "actionText": "Open Examples",
                "url": "/notebooks/snippets/importing_libraries.ipynb"
              }
            ]
          }
        }
      ]
    },
    {
      "cell_type": "code",
      "source": [
        "def beatClassify_singleBeat(ecg,ann_locs,inv_beats):\n",
        "\n",
        "    Fs = 360 # default sampling frequency\n",
        "\n",
        "    f_orig = ecg\n",
        "    no_beats = len(ann_locs)\n",
        "\n",
        "    ae_feat = np.zeros((no_beats,235))\n",
        "\n",
        "    inv_ind = []\n",
        "\n",
        "    l_win = int(np.floor(0.25*Fs))\n",
        "    r_win = int(np.ceil(0.40*Fs))\n",
        "\n",
        "    rr = np.append(0, np.diff(ann_locs))\n",
        "    sdrr = np.append(np.array([0, 0]), ((rr[2:] - rr[1:-1])/rr[1:-1])*100)\n",
        "\n",
        "    feat = np.zeros((no_beats,2))\n",
        "    i = 1\n",
        "\n",
        "    while i < (no_beats-1):\n",
        "\n",
        "        locs_ind = int(ann_locs[i])\n",
        "\n",
        "        l_st = max(0,locs_ind - l_win)\n",
        "        r_fi = min(f_orig.shape[0],locs_ind + r_win + 1)\n",
        "\n",
        "        # Raw ECG beat segment --> starts 0.125s before and ends 0.4s after the R-peak location\n",
        "        temp = f_orig[l_st:r_fi]\n",
        "\n",
        "        if(len(temp) != 235):\n",
        "            inv_ind.append(i)\n",
        "            i += 1\n",
        "            continue\n",
        "\n",
        "        # Check for NaNs and infinite values\n",
        "        if(sum(np.isinf(temp))):\n",
        "\n",
        "            print('Infinite values encountered in raw ECG..skipping feature vector inclusion')\n",
        "            inv_ind.append(i)\n",
        "            i += 1\n",
        "            continue\n",
        "\n",
        "        if(sum(np.isnan(temp))):\n",
        "            print('NaN values encountered in raw ECG..skipping feature vector inclusion')\n",
        "            inv_ind.append(i)\n",
        "            i += 1\n",
        "            continue\n",
        "\n",
        "        ae_feat[i,:] = temp/max(abs(temp))\n",
        "\n",
        "\n",
        "        hr = Fs*60/rr[i] # Heart rate\n",
        "        rr_diff = sdrr[i] # # percentage change in successive difference of RR-intervals (SDRR)\n",
        "\n",
        "\n",
        "        fv = np.array([hr,rr_diff])\n",
        "\n",
        "        if(sum(np.isinf(fv))):\n",
        "\n",
        "            print('Infinite values encountered in features..skipping feature vector inclusion')\n",
        "            fv = np.array([0,0])\n",
        "            inv_ind.append(i)\n",
        "            i += 1\n",
        "            continue\n",
        "\n",
        "        if(sum(np.isnan(fv))):\n",
        "            print('NaN values encountered in features..skipping feature vector inclusion')\n",
        "            fv = np.array([0,0])\n",
        "            inv_ind.append(i)\n",
        "            i += 1\n",
        "            continue\n",
        "\n",
        "\n",
        "        feat[i,:] = fv # feature vector to be used in later stages\n",
        "\n",
        "        i += 1\n",
        "\n",
        "\n",
        "    K.clear_session() # clear keras session\n",
        "\n",
        "    pvc_mdl1 = '/content/drive/MyDrive/ECG/pvc_1beat.h5' # Single-beat PVC model\n",
        "\n",
        "    # Create SSAE network and load network weights\n",
        "    ae_model = create_ae_model(235,1,5,0,'relu')\n",
        "    ae_model.load_weights(pvc_mdl1)\n",
        "\n",
        "    # Extract binary classifier output from the SSAE network and predict\n",
        "    full_model = Model(inputs=ae_model.inputs,outputs=ae_model.outputs[1])\n",
        "\n",
        "    score_pvc = full_model.predict(ae_feat)\n",
        "    beat_pvc = np.argmax(score_pvc,axis=1)\n",
        "\n",
        "    # Check invalid beats\n",
        "    inv_ind = np.asarray(inv_ind)\n",
        "    inv_ind = np.unique(inv_ind)\n",
        "\n",
        "    inv_ind = [int(ii) for ii in inv_ind]\n",
        "\n",
        "    beat_pvc[inv_ind] = 0\n",
        "    beat_pvc[-1] = 0\n",
        "\n",
        "    # Identify potential PVCs for use in AF detection algorithm\n",
        "    af_pvc = np.zeros(beat_pvc.shape[0])\n",
        "\n",
        "    af1 = np.where(feat[:,1] <= -10)[0]\n",
        "    af2 = np.where(feat[:,0] >= 100)[0]\n",
        "    af3 = np.where(feat[:,0] >= 80)[0]\n",
        "    af4 = np.where(score_pvc[:,1] >= 0.75)[0]\n",
        "\n",
        "    af_1s = np.intersect1d(af4,np.union1d(np.intersect1d(af1,af3),af2))\n",
        "    af_pvc[af_1s] = 1\n",
        "    af_pvc[inv_ind] = 0\n",
        "\n",
        "    # Identify potential PVCs for use in VR detection algorithm\n",
        "    vr_pvc = np.zeros(beat_pvc.shape[0])\n",
        "\n",
        "    vr1 = np.where(feat[:,0] >= 100)[0]\n",
        "    vr2 = np.where(score_pvc[:,1] >= 0.5)[0]\n",
        "    vr4 = np.where(feat[:,0] >= 80)[0]\n",
        "    vr5 = np.where(score_pvc[:,1] >= 0.9)[0]\n",
        "    vr_1s = np.union1d(np.intersect1d(vr1,vr2),np.intersect1d(vr4,vr5))\n",
        "    vr_pvc[vr_1s] = 1\n",
        "    vr_pvc[inv_ind] = 0\n",
        "\n",
        "    return beat_pvc,score_pvc,af_pvc,vr_pvc\n"
      ],
      "metadata": {
        "id": "xCjFhpM9NdjB"
      },
      "execution_count": 109,
      "outputs": []
    },
    {
      "cell_type": "code",
      "source": [
        "beatpvc,pvcscore,pvcaf,pvcvr = beatClassify_singleBeat(ecg_clean,r_peaks,invalid_beats)"
      ],
      "metadata": {
        "colab": {
          "base_uri": "https://localhost:8080/"
        },
        "id": "KZEE_G7TbwER",
        "outputId": "f0290cd3-f473-40e7-c522-9e4b352b4ff5"
      },
      "execution_count": 110,
      "outputs": [
        {
          "output_type": "stream",
          "name": "stdout",
          "text": [
            "31/31 [==============================] - 0s 909us/step\n"
          ]
        }
      ]
    },
    {
      "cell_type": "code",
      "source": [
        "beatpvc.shape  #with 1s at indices with PVCs and 0s elsewhere."
      ],
      "metadata": {
        "colab": {
          "base_uri": "https://localhost:8080/"
        },
        "id": "qXsApKbecGb_",
        "outputId": "f72a71c9-4734-4ba1-d677-6f2136efbece"
      },
      "execution_count": 149,
      "outputs": [
        {
          "output_type": "execute_result",
          "data": {
            "text/plain": [
              "(976,)"
            ]
          },
          "metadata": {},
          "execution_count": 149
        }
      ]
    },
    {
      "cell_type": "code",
      "source": [
        "pvcscore # with the class probabilites  corresponding to class 1 (PVC)."
      ],
      "metadata": {
        "colab": {
          "base_uri": "https://localhost:8080/"
        },
        "id": "6Pw7UU4QcRFc",
        "outputId": "93ff23a3-3fcc-41d4-b16e-d3879bc908f1"
      },
      "execution_count": 112,
      "outputs": [
        {
          "output_type": "execute_result",
          "data": {
            "text/plain": [
              "array([[0.9783952 , 0.02160481],\n",
              "       [0.9983155 , 0.00168449],\n",
              "       [0.97548324, 0.02451672],\n",
              "       ...,\n",
              "       [0.01072725, 0.9892728 ],\n",
              "       [0.00803121, 0.99196887],\n",
              "       [0.9783952 , 0.02160481]], dtype=float32)"
            ]
          },
          "metadata": {},
          "execution_count": 112
        }
      ]
    },
    {
      "cell_type": "code",
      "source": [
        "pvcaf.shape # with 1s at indices with potential PVCs and 0s elsewhere. Indicates PVC information to be used in AF detection algorithm."
      ],
      "metadata": {
        "colab": {
          "base_uri": "https://localhost:8080/"
        },
        "id": "C8sUnqAJcTZt",
        "outputId": "880616b3-088d-4161-9149-f7395fd6e8fb"
      },
      "execution_count": 113,
      "outputs": [
        {
          "output_type": "execute_result",
          "data": {
            "text/plain": [
              "(976,)"
            ]
          },
          "metadata": {},
          "execution_count": 113
        }
      ]
    },
    {
      "cell_type": "code",
      "source": [
        "pvcvr.shape # with 1s at indices with potential PVCs and 0s elsewhere. Indicates PVC information to be used in VR detection algorithm."
      ],
      "metadata": {
        "colab": {
          "base_uri": "https://localhost:8080/"
        },
        "id": "8V1FhwBpcVcX",
        "outputId": "6d6b3879-1be0-4584-ba61-76b23509e353"
      },
      "execution_count": 114,
      "outputs": [
        {
          "output_type": "execute_result",
          "data": {
            "text/plain": [
              "(976,)"
            ]
          },
          "metadata": {},
          "execution_count": 114
        }
      ]
    },
    {
      "cell_type": "code",
      "source": [
        "def getCons(signal,value,length=-1,exactly=1):\n",
        "\n",
        "    cons_len = []\n",
        "    cons_loc = []\n",
        "\n",
        "    m = signal.shape\n",
        "    if(len(m) > 1):\n",
        "        if(m[1] == 1):\n",
        "            signal = signal[:,0]\n",
        "        elif(m[0] == 1):\n",
        "            signal = signal[0,:]\n",
        "\n",
        "        else:\n",
        "            error('Presently supported for only 1D signals')\n",
        "\n",
        "    signal_new = np.zeros(len(signal))\n",
        "    signal_new[np.where(signal == value)[0]] = 1\n",
        "\n",
        "    signal_app = np.append(np.array([0]),np.append(signal_new,np.array([0])))\n",
        "    signal_diff = np.diff(signal_app)\n",
        "\n",
        "    c_locs = []\n",
        "\n",
        "    for i in range(len(signal_diff)):\n",
        "\n",
        "        if(abs(signal_diff[i]) == 1):\n",
        "            c_locs.append(i)\n",
        "\n",
        "\n",
        "    for i in range(0,len(c_locs),2):\n",
        "\n",
        "        cons_len.append(c_locs[i+1] - c_locs[i])\n",
        "        cons_loc.append(c_locs[i])\n",
        "\n",
        "\n",
        "    cons_loc = np.asarray(cons_loc)\n",
        "    cons_len = np.asarray(cons_len)\n",
        "\n",
        "    # check for constraints on length of each block\n",
        "\n",
        "    if(length > -1):\n",
        "\n",
        "        if(exactly == 0):\n",
        "\n",
        "            cons_loc = cons_loc[np.where(cons_len >= length)[0]]\n",
        "            cons_len = cons_len[np.where(cons_len >= length)[0]]\n",
        "\n",
        "        else:\n",
        "            cons_loc = cons_loc[np.where(cons_len == length)[0]]\n",
        "            cons_len = cons_len[np.where(cons_len == length)[0]]\n",
        "\n",
        "    return cons_loc,cons_len"
      ],
      "metadata": {
        "id": "KkUX2_LqFKiY"
      },
      "execution_count": 153,
      "outputs": []
    },
    {
      "cell_type": "code",
      "source": [
        "def find_subarray1d(x,subarray):\n",
        "\n",
        "    if(len(x.shape) > 1):\n",
        "        error('Only 1D arrays supported presently')\n",
        "\n",
        "    x_len = len(x)\n",
        "    win_len = len(subarray)\n",
        "    ind = [];\n",
        "\n",
        "    for i in range(x_len - win_len + 1):\n",
        "        x_curr = x[i:i+win_len]\n",
        "        if(np.all(x_curr == subarray)):\n",
        "            ind.append(i)\n",
        "    ind = np.asarray(ind)\n",
        "    return ind"
      ],
      "metadata": {
        "id": "JIg8A20pEiVc"
      },
      "execution_count": 154,
      "outputs": []
    },
    {
      "cell_type": "code",
      "source": [
        "def check_vent_bitriquad(ecg_locs,pvc_beats,af_flag):\n",
        "\n",
        "    Fs = 360 # default sampling frequency\n",
        "    ecg_type = deepcopy(pvc_beats)\n",
        "\n",
        "    # V.Quadrigeminy\n",
        "\n",
        "    quad_arr = np.array([])\n",
        "    dur_quad = 0\n",
        "    quad_flag = np.zeros(len(ecg_locs))\n",
        "    quad_acf = np.array([])\n",
        "\n",
        "    # Check for occurrences of \"NNNV\" pattern for atleast three consecutive times\n",
        "    quad_0 = find_subarray1d(ecg_type,[0, 0, 0, 1])\n",
        "\n",
        "    if(quad_0.size):\n",
        "        quad_1 = quad_0 + 1\n",
        "        quad_2 = quad_0 + 2\n",
        "        quad_3 = quad_0 + 3\n",
        "        quad_ind = np.union1d(quad_0,np.union1d(quad_1,np.union1d(quad_2,quad_3)))\n",
        "\n",
        "        quad_vec = np.zeros(len(ecg_locs))\n",
        "        quad_vec[quad_ind] = 1\n",
        "        quad_loc,quad_len = getCons(quad_vec,1,12,0)\n",
        "\n",
        "        for t in range(quad_loc.shape[0]):\n",
        "\n",
        "            st_q = quad_loc[t]\n",
        "            fi_q = quad_loc[t] + quad_len[t]\n",
        "\n",
        "            st = ecg_locs[st_q] - int(0.2*Fs)\n",
        "            fi = ecg_locs[fi_q - 1] + int(0.2*Fs)\n",
        "\n",
        "            st_fi = np.array([st,fi])\n",
        "            st_fi = st_fi.reshape(1,st_fi.shape[0])\n",
        "\n",
        "            ep_beats = ecg_locs[st_q:fi_q]\n",
        "            ep_rr = np.diff(ep_beats,axis=0) # episode RR-interval\n",
        "            acfval = acf(ep_rr,nlags=10)\n",
        "\n",
        "            # Skip detection if ACF of episode RR-intervals at lag 4 is less than 0.4 in the presence of AF\n",
        "            if sum(af_flag[st_q:fi_q]):\n",
        "                if acfval[4] < 0.4:\n",
        "                    continue\n",
        "\n",
        "            # Compute episode onsets, offsets and duration\n",
        "            if not quad_arr.size:\n",
        "                quad_arr = st_fi\n",
        "                quad_acf = np.array([acfval[4]])\n",
        "            else:\n",
        "                quad_arr = np.append(quad_arr,st_fi,axis=0)\n",
        "                quad_acf = np.append(quad_acf,np.array([acfval[4]]),axis=0)\n",
        "\n",
        "            dur_quad += (fi - st)\n",
        "\n",
        "            ecg_type[st_q:fi_q] = -1\n",
        "            quad_flag[st_q:fi_q] = 1\n",
        "\n",
        "    # V.Trigeminy\n",
        "\n",
        "    tri_arr = np.array([])\n",
        "    dur_tri = 0\n",
        "    tri_flag = np.zeros(len(ecg_locs))\n",
        "    tri_acf = np.array([])\n",
        "\n",
        "    # Check for occurrences of \"NNV\" pattern for atleast three consecutive times\n",
        "    tri_0 = find_subarray1d(ecg_type,[0, 0, 1])\n",
        "\n",
        "    if(tri_0.size):\n",
        "        tri_1 = tri_0 + 1\n",
        "        tri_2 = tri_0 + 2\n",
        "        tri_ind = np.union1d(tri_0,np.union1d(tri_1,tri_2))\n",
        "\n",
        "        tri_vec = np.zeros(len(ecg_locs))\n",
        "        tri_vec[tri_ind] = 1\n",
        "        tri_loc,tri_len = getCons(tri_vec,1,9,0)\n",
        "\n",
        "        for t in range(tri_loc.shape[0]):\n",
        "\n",
        "            st_t = tri_loc[t]\n",
        "            fi_t = tri_loc[t] + tri_len[t]\n",
        "\n",
        "            st = ecg_locs[st_t] - int(0.2*Fs)\n",
        "            fi = ecg_locs[fi_t - 1] + int(0.2*Fs)\n",
        "\n",
        "            st_fi = np.array([st,fi])\n",
        "            st_fi = st_fi.reshape(1,st_fi.shape[0])\n",
        "\n",
        "            ep_beats = ecg_locs[st_t:fi_t]\n",
        "            ep_rr = np.diff(ep_beats,axis=0) # episode RR-interval\n",
        "            acfval = acf(ep_rr,nlags=10)\n",
        "\n",
        "            # Skip detection if ACF of episode RR-intervals at lag 3 is less than 0.4 in the presence of AF\n",
        "            if sum(af_flag[st_t:fi_t]):\n",
        "                if acfval[3] < 0.4:\n",
        "                    continue\n",
        "\n",
        "            # Compute episode onsets, offsets and duration\n",
        "            if not tri_arr.size:\n",
        "                tri_arr = st_fi\n",
        "                tri_acf = np.array([acfval[3]])\n",
        "            else:\n",
        "                tri_arr = np.append(tri_arr,st_fi,axis=0)\n",
        "                tri_acf = np.append(tri_acf,np.array([acfval[3]]),axis=0)\n",
        "\n",
        "            dur_tri += (fi - st)\n",
        "\n",
        "            ecg_type[st_t:fi_t] = -1\n",
        "            tri_flag[st_t:fi_t] = 1\n",
        "\n",
        "\n",
        "    # V.Bigeminy\n",
        "\n",
        "    bi_arr = np.array([])\n",
        "    bi_flag = np.zeros(len(ecg_locs))\n",
        "    dur_bi = 0\n",
        "    bi_acf = np.array([])\n",
        "\n",
        "    # Check for occurrences of \"NV\" pattern for atleast three consecutive times\n",
        "    bi_0 = find_subarray1d(ecg_type,[0, 1])\n",
        "\n",
        "    if(bi_0.size):\n",
        "        bi_1 = bi_0 + 1\n",
        "        bi_ind = np.union1d(bi_0,bi_1)\n",
        "\n",
        "        bi_vec = np.zeros(len(ecg_locs))\n",
        "        bi_vec[bi_ind] = 1\n",
        "\n",
        "        bi_loc,bi_len = getCons(bi_vec,1,6,0)\n",
        "\n",
        "\n",
        "        for b in range(bi_loc.shape[0]):\n",
        "            st_b = bi_loc[b]\n",
        "            fi_b = bi_loc[b] + bi_len[b]\n",
        "\n",
        "            st = ecg_locs[st_b] - int(0.2*Fs)\n",
        "            fi = ecg_locs[fi_b - 1] + int(0.2*Fs)\n",
        "\n",
        "            st_fi = np.array([st,fi])\n",
        "            st_fi = st_fi.reshape(1,st_fi.shape[0])\n",
        "\n",
        "            ep_beats = ecg_locs[st_b:fi_b]\n",
        "            ep_rr = np.diff(ep_beats,axis=0)\n",
        "            acfval = acf(ep_rr,nlags=10)\n",
        "\n",
        "            # Skip detection if ACF of episode RR-intervals at lag 2 is less than 0.4 in the presence of AF\n",
        "            if sum(af_flag[st_b:fi_b]):\n",
        "                if acfval[2] < 0.4:\n",
        "                    continue\n",
        "\n",
        "            # Compute episode onsets, offsets and duration\n",
        "            if not bi_arr.size:\n",
        "                bi_arr = st_fi\n",
        "                bi_acf = np.array([acfval[2]])\n",
        "\n",
        "            else:\n",
        "                bi_arr = np.append(bi_arr,st_fi,axis=0)\n",
        "                bi_acf = np.append(bi_acf,np.array([acfval[2]]),axis=0)\n",
        "\n",
        "            dur_bi += (fi - st)\n",
        "            bi_flag[st_b:fi_b] = 1\n",
        "\n",
        "\n",
        "    return quad_arr,dur_quad,quad_flag,quad_acf,tri_arr,dur_tri,tri_flag,tri_acf,bi_arr,dur_bi,bi_flag,bi_acf"
      ],
      "metadata": {
        "id": "0p6gJXLlcYGl"
      },
      "execution_count": 155,
      "outputs": []
    },
    {
      "cell_type": "code",
      "source": [
        "quad_arr,dur_quad,quad_flag,quad_acf,tri_arr,dur_tri,tri_flag,tri_acf,bi_arr,dur_bi,bi_flag,bi_acf = check_vent_bitriquad(r_peaks,beatpvc,pvcaf)"
      ],
      "metadata": {
        "id": "dgBnzrzgk_7o"
      },
      "execution_count": 157,
      "outputs": []
    },
    {
      "cell_type": "code",
      "source": [
        "quad_arr"
      ],
      "metadata": {
        "colab": {
          "base_uri": "https://localhost:8080/"
        },
        "id": "GtBubhWrFx2W",
        "outputId": "b76844ee-0abc-49ac-9f5f-264bf11706f7"
      },
      "execution_count": 158,
      "outputs": [
        {
          "output_type": "execute_result",
          "data": {
            "text/plain": [
              "array([], dtype=float64)"
            ]
          },
          "metadata": {},
          "execution_count": 158
        }
      ]
    },
    {
      "cell_type": "code",
      "source": [
        "tri_arr"
      ],
      "metadata": {
        "colab": {
          "base_uri": "https://localhost:8080/"
        },
        "id": "FwE_WEtdHHOF",
        "outputId": "a63b5c84-80ef-455c-a009-31b44feb4983"
      },
      "execution_count": 172,
      "outputs": [
        {
          "output_type": "execute_result",
          "data": {
            "text/plain": [
              "array([[26334, 28861]])"
            ]
          },
          "metadata": {},
          "execution_count": 172
        }
      ]
    },
    {
      "cell_type": "code",
      "source": [
        "bi_arr"
      ],
      "metadata": {
        "colab": {
          "base_uri": "https://localhost:8080/"
        },
        "id": "I3_6LYkkHJl1",
        "outputId": "f023d1d9-aa1e-4a0f-cb29-215fb8e18243"
      },
      "execution_count": 173,
      "outputs": [
        {
          "output_type": "execute_result",
          "data": {
            "text/plain": [
              "array([[ 36975,  40144],\n",
              "       [ 41307,  47470],\n",
              "       [ 50426,  52449],\n",
              "       [190865, 194069],\n",
              "       [211982, 216822],\n",
              "       [235422, 238555]])"
            ]
          },
          "metadata": {},
          "execution_count": 173
        }
      ]
    },
    {
      "cell_type": "code",
      "source": [
        "tri_flag"
      ],
      "metadata": {
        "colab": {
          "base_uri": "https://localhost:8080/"
        },
        "id": "KUe7TPtgGNr9",
        "outputId": "6b6401e7-891b-484a-d6d7-a0ebd0a42fd7"
      },
      "execution_count": 159,
      "outputs": [
        {
          "output_type": "execute_result",
          "data": {
            "text/plain": [
              "array([0., 0., 0., 0., 0., 0., 0., 0., 0., 0., 0., 0., 0., 0., 0., 0., 0.,\n",
              "       0., 0., 0., 0., 0., 0., 0., 0., 0., 0., 0., 0., 0., 0., 0., 0., 0.,\n",
              "       0., 0., 0., 0., 0., 0., 0., 0., 0., 0., 0., 0., 0., 0., 0., 0., 0.,\n",
              "       0., 0., 0., 0., 1., 1., 1., 1., 1., 1., 1., 1., 1., 0., 0., 0., 0.,\n",
              "       0., 0., 0., 0., 0., 0., 0., 0., 0., 0., 0., 0., 0., 0., 0., 0., 0.,\n",
              "       0., 0., 0., 0., 0., 0., 0., 0., 0., 0., 0., 0., 0., 0., 0., 0., 0.,\n",
              "       0., 0., 0., 0., 0., 0., 0., 0., 0., 0., 0., 0., 0., 0., 0., 0., 0.,\n",
              "       0., 0., 0., 0., 0., 0., 0., 0., 0., 0., 0., 0., 0., 0., 0., 0., 0.,\n",
              "       0., 0., 0., 0., 0., 0., 0., 0., 0., 0., 0., 0., 0., 0., 0., 0., 0.,\n",
              "       0., 0., 0., 0., 0., 0., 0., 0., 0., 0., 0., 0., 0., 0., 0., 0., 0.,\n",
              "       0., 0., 0., 0., 0., 0., 0., 0., 0., 0., 0., 0., 0., 0., 0., 0., 0.,\n",
              "       0., 0., 0., 0., 0., 0., 0., 0., 0., 0., 0., 0., 0., 0., 0., 0., 0.,\n",
              "       0., 0., 0., 0., 0., 0., 0., 0., 0., 0., 0., 0., 0., 0., 0., 0., 0.,\n",
              "       0., 0., 0., 0., 0., 0., 0., 0., 0., 0., 0., 0., 0., 0., 0., 0., 0.,\n",
              "       0., 0., 0., 0., 0., 0., 0., 0., 0., 0., 0., 0., 0., 0., 0., 0., 0.,\n",
              "       0., 0., 0., 0., 0., 0., 0., 0., 0., 0., 0., 0., 0., 0., 0., 0., 0.,\n",
              "       0., 0., 0., 0., 0., 0., 0., 0., 0., 0., 0., 0., 0., 0., 0., 0., 0.,\n",
              "       0., 0., 0., 0., 0., 0., 0., 0., 0., 0., 0., 0., 0., 0., 0., 0., 0.,\n",
              "       0., 0., 0., 0., 0., 0., 0., 0., 0., 0., 0., 0., 0., 0., 0., 0., 0.,\n",
              "       0., 0., 0., 0., 0., 0., 0., 0., 0., 0., 0., 0., 0., 0., 0., 0., 0.,\n",
              "       0., 0., 0., 0., 0., 0., 0., 0., 0., 0., 0., 0., 0., 0., 0., 0., 0.,\n",
              "       0., 0., 0., 0., 0., 0., 0., 0., 0., 0., 0., 0., 0., 0., 0., 0., 0.,\n",
              "       0., 0., 0., 0., 0., 0., 0., 0., 0., 0., 0., 0., 0., 0., 0., 0., 0.,\n",
              "       0., 0., 0., 0., 0., 0., 0., 0., 0., 0., 0., 0., 0., 0., 0., 0., 0.,\n",
              "       0., 0., 0., 0., 0., 0., 0., 0., 0., 0., 0., 0., 0., 0., 0., 0., 0.,\n",
              "       0., 0., 0., 0., 0., 0., 0., 0., 0., 0., 0., 0., 0., 0., 0., 0., 0.,\n",
              "       0., 0., 0., 0., 0., 0., 0., 0., 0., 0., 0., 0., 0., 0., 0., 0., 0.,\n",
              "       0., 0., 0., 0., 0., 0., 0., 0., 0., 0., 0., 0., 0., 0., 0., 0., 0.,\n",
              "       0., 0., 0., 0., 0., 0., 0., 0., 0., 0., 0., 0., 0., 0., 0., 0., 0.,\n",
              "       0., 0., 0., 0., 0., 0., 0., 0., 0., 0., 0., 0., 0., 0., 0., 0., 0.,\n",
              "       0., 0., 0., 0., 0., 0., 0., 0., 0., 0., 0., 0., 0., 0., 0., 0., 0.,\n",
              "       0., 0., 0., 0., 0., 0., 0., 0., 0., 0., 0., 0., 0., 0., 0., 0., 0.,\n",
              "       0., 0., 0., 0., 0., 0., 0., 0., 0., 0., 0., 0., 0., 0., 0., 0., 0.,\n",
              "       0., 0., 0., 0., 0., 0., 0., 0., 0., 0., 0., 0., 0., 0., 0., 0., 0.,\n",
              "       0., 0., 0., 0., 0., 0., 0., 0., 0., 0., 0., 0., 0., 0., 0., 0., 0.,\n",
              "       0., 0., 0., 0., 0., 0., 0., 0., 0., 0., 0., 0., 0., 0., 0., 0., 0.,\n",
              "       0., 0., 0., 0., 0., 0., 0., 0., 0., 0., 0., 0., 0., 0., 0., 0., 0.,\n",
              "       0., 0., 0., 0., 0., 0., 0., 0., 0., 0., 0., 0., 0., 0., 0., 0., 0.,\n",
              "       0., 0., 0., 0., 0., 0., 0., 0., 0., 0., 0., 0., 0., 0., 0., 0., 0.,\n",
              "       0., 0., 0., 0., 0., 0., 0., 0., 0., 0., 0., 0., 0., 0., 0., 0., 0.,\n",
              "       0., 0., 0., 0., 0., 0., 0., 0., 0., 0., 0., 0., 0., 0., 0., 0., 0.,\n",
              "       0., 0., 0., 0., 0., 0., 0., 0., 0., 0., 0., 0., 0., 0., 0., 0., 0.,\n",
              "       0., 0., 0., 0., 0., 0., 0., 0., 0., 0., 0., 0., 0., 0., 0., 0., 0.,\n",
              "       0., 0., 0., 0., 0., 0., 0., 0., 0., 0., 0., 0., 0., 0., 0., 0., 0.,\n",
              "       0., 0., 0., 0., 0., 0., 0., 0., 0., 0., 0., 0., 0., 0., 0., 0., 0.,\n",
              "       0., 0., 0., 0., 0., 0., 0., 0., 0., 0., 0., 0., 0., 0., 0., 0., 0.,\n",
              "       0., 0., 0., 0., 0., 0., 0., 0., 0., 0., 0., 0., 0., 0., 0., 0., 0.,\n",
              "       0., 0., 0., 0., 0., 0., 0., 0., 0., 0., 0., 0., 0., 0., 0., 0., 0.,\n",
              "       0., 0., 0., 0., 0., 0., 0., 0., 0., 0., 0., 0., 0., 0., 0., 0., 0.,\n",
              "       0., 0., 0., 0., 0., 0., 0., 0., 0., 0., 0., 0., 0., 0., 0., 0., 0.,\n",
              "       0., 0., 0., 0., 0., 0., 0., 0., 0., 0., 0., 0., 0., 0., 0., 0., 0.,\n",
              "       0., 0., 0., 0., 0., 0., 0., 0., 0., 0., 0., 0., 0., 0., 0., 0., 0.,\n",
              "       0., 0., 0., 0., 0., 0., 0., 0., 0., 0., 0., 0., 0., 0., 0., 0., 0.,\n",
              "       0., 0., 0., 0., 0., 0., 0., 0., 0., 0., 0., 0., 0., 0., 0., 0., 0.,\n",
              "       0., 0., 0., 0., 0., 0., 0., 0., 0., 0., 0., 0., 0., 0., 0., 0., 0.,\n",
              "       0., 0., 0., 0., 0., 0., 0., 0., 0., 0., 0., 0., 0., 0., 0., 0., 0.,\n",
              "       0., 0., 0., 0., 0., 0., 0., 0., 0., 0., 0., 0., 0., 0., 0., 0., 0.,\n",
              "       0., 0., 0., 0., 0., 0., 0.])"
            ]
          },
          "metadata": {},
          "execution_count": 159
        }
      ]
    },
    {
      "cell_type": "code",
      "source": [
        "quad_flag"
      ],
      "metadata": {
        "colab": {
          "base_uri": "https://localhost:8080/"
        },
        "id": "n-6qSRtrGTw0",
        "outputId": "bf2a460d-b7ce-428b-8106-1a883815733a"
      },
      "execution_count": 160,
      "outputs": [
        {
          "output_type": "execute_result",
          "data": {
            "text/plain": [
              "array([0., 0., 0., 0., 0., 0., 0., 0., 0., 0., 0., 0., 0., 0., 0., 0., 0.,\n",
              "       0., 0., 0., 0., 0., 0., 0., 0., 0., 0., 0., 0., 0., 0., 0., 0., 0.,\n",
              "       0., 0., 0., 0., 0., 0., 0., 0., 0., 0., 0., 0., 0., 0., 0., 0., 0.,\n",
              "       0., 0., 0., 0., 0., 0., 0., 0., 0., 0., 0., 0., 0., 0., 0., 0., 0.,\n",
              "       0., 0., 0., 0., 0., 0., 0., 0., 0., 0., 0., 0., 0., 0., 0., 0., 0.,\n",
              "       0., 0., 0., 0., 0., 0., 0., 0., 0., 0., 0., 0., 0., 0., 0., 0., 0.,\n",
              "       0., 0., 0., 0., 0., 0., 0., 0., 0., 0., 0., 0., 0., 0., 0., 0., 0.,\n",
              "       0., 0., 0., 0., 0., 0., 0., 0., 0., 0., 0., 0., 0., 0., 0., 0., 0.,\n",
              "       0., 0., 0., 0., 0., 0., 0., 0., 0., 0., 0., 0., 0., 0., 0., 0., 0.,\n",
              "       0., 0., 0., 0., 0., 0., 0., 0., 0., 0., 0., 0., 0., 0., 0., 0., 0.,\n",
              "       0., 0., 0., 0., 0., 0., 0., 0., 0., 0., 0., 0., 0., 0., 0., 0., 0.,\n",
              "       0., 0., 0., 0., 0., 0., 0., 0., 0., 0., 0., 0., 0., 0., 0., 0., 0.,\n",
              "       0., 0., 0., 0., 0., 0., 0., 0., 0., 0., 0., 0., 0., 0., 0., 0., 0.,\n",
              "       0., 0., 0., 0., 0., 0., 0., 0., 0., 0., 0., 0., 0., 0., 0., 0., 0.,\n",
              "       0., 0., 0., 0., 0., 0., 0., 0., 0., 0., 0., 0., 0., 0., 0., 0., 0.,\n",
              "       0., 0., 0., 0., 0., 0., 0., 0., 0., 0., 0., 0., 0., 0., 0., 0., 0.,\n",
              "       0., 0., 0., 0., 0., 0., 0., 0., 0., 0., 0., 0., 0., 0., 0., 0., 0.,\n",
              "       0., 0., 0., 0., 0., 0., 0., 0., 0., 0., 0., 0., 0., 0., 0., 0., 0.,\n",
              "       0., 0., 0., 0., 0., 0., 0., 0., 0., 0., 0., 0., 0., 0., 0., 0., 0.,\n",
              "       0., 0., 0., 0., 0., 0., 0., 0., 0., 0., 0., 0., 0., 0., 0., 0., 0.,\n",
              "       0., 0., 0., 0., 0., 0., 0., 0., 0., 0., 0., 0., 0., 0., 0., 0., 0.,\n",
              "       0., 0., 0., 0., 0., 0., 0., 0., 0., 0., 0., 0., 0., 0., 0., 0., 0.,\n",
              "       0., 0., 0., 0., 0., 0., 0., 0., 0., 0., 0., 0., 0., 0., 0., 0., 0.,\n",
              "       0., 0., 0., 0., 0., 0., 0., 0., 0., 0., 0., 0., 0., 0., 0., 0., 0.,\n",
              "       0., 0., 0., 0., 0., 0., 0., 0., 0., 0., 0., 0., 0., 0., 0., 0., 0.,\n",
              "       0., 0., 0., 0., 0., 0., 0., 0., 0., 0., 0., 0., 0., 0., 0., 0., 0.,\n",
              "       0., 0., 0., 0., 0., 0., 0., 0., 0., 0., 0., 0., 0., 0., 0., 0., 0.,\n",
              "       0., 0., 0., 0., 0., 0., 0., 0., 0., 0., 0., 0., 0., 0., 0., 0., 0.,\n",
              "       0., 0., 0., 0., 0., 0., 0., 0., 0., 0., 0., 0., 0., 0., 0., 0., 0.,\n",
              "       0., 0., 0., 0., 0., 0., 0., 0., 0., 0., 0., 0., 0., 0., 0., 0., 0.,\n",
              "       0., 0., 0., 0., 0., 0., 0., 0., 0., 0., 0., 0., 0., 0., 0., 0., 0.,\n",
              "       0., 0., 0., 0., 0., 0., 0., 0., 0., 0., 0., 0., 0., 0., 0., 0., 0.,\n",
              "       0., 0., 0., 0., 0., 0., 0., 0., 0., 0., 0., 0., 0., 0., 0., 0., 0.,\n",
              "       0., 0., 0., 0., 0., 0., 0., 0., 0., 0., 0., 0., 0., 0., 0., 0., 0.,\n",
              "       0., 0., 0., 0., 0., 0., 0., 0., 0., 0., 0., 0., 0., 0., 0., 0., 0.,\n",
              "       0., 0., 0., 0., 0., 0., 0., 0., 0., 0., 0., 0., 0., 0., 0., 0., 0.,\n",
              "       0., 0., 0., 0., 0., 0., 0., 0., 0., 0., 0., 0., 0., 0., 0., 0., 0.,\n",
              "       0., 0., 0., 0., 0., 0., 0., 0., 0., 0., 0., 0., 0., 0., 0., 0., 0.,\n",
              "       0., 0., 0., 0., 0., 0., 0., 0., 0., 0., 0., 0., 0., 0., 0., 0., 0.,\n",
              "       0., 0., 0., 0., 0., 0., 0., 0., 0., 0., 0., 0., 0., 0., 0., 0., 0.,\n",
              "       0., 0., 0., 0., 0., 0., 0., 0., 0., 0., 0., 0., 0., 0., 0., 0., 0.,\n",
              "       0., 0., 0., 0., 0., 0., 0., 0., 0., 0., 0., 0., 0., 0., 0., 0., 0.,\n",
              "       0., 0., 0., 0., 0., 0., 0., 0., 0., 0., 0., 0., 0., 0., 0., 0., 0.,\n",
              "       0., 0., 0., 0., 0., 0., 0., 0., 0., 0., 0., 0., 0., 0., 0., 0., 0.,\n",
              "       0., 0., 0., 0., 0., 0., 0., 0., 0., 0., 0., 0., 0., 0., 0., 0., 0.,\n",
              "       0., 0., 0., 0., 0., 0., 0., 0., 0., 0., 0., 0., 0., 0., 0., 0., 0.,\n",
              "       0., 0., 0., 0., 0., 0., 0., 0., 0., 0., 0., 0., 0., 0., 0., 0., 0.,\n",
              "       0., 0., 0., 0., 0., 0., 0., 0., 0., 0., 0., 0., 0., 0., 0., 0., 0.,\n",
              "       0., 0., 0., 0., 0., 0., 0., 0., 0., 0., 0., 0., 0., 0., 0., 0., 0.,\n",
              "       0., 0., 0., 0., 0., 0., 0., 0., 0., 0., 0., 0., 0., 0., 0., 0., 0.,\n",
              "       0., 0., 0., 0., 0., 0., 0., 0., 0., 0., 0., 0., 0., 0., 0., 0., 0.,\n",
              "       0., 0., 0., 0., 0., 0., 0., 0., 0., 0., 0., 0., 0., 0., 0., 0., 0.,\n",
              "       0., 0., 0., 0., 0., 0., 0., 0., 0., 0., 0., 0., 0., 0., 0., 0., 0.,\n",
              "       0., 0., 0., 0., 0., 0., 0., 0., 0., 0., 0., 0., 0., 0., 0., 0., 0.,\n",
              "       0., 0., 0., 0., 0., 0., 0., 0., 0., 0., 0., 0., 0., 0., 0., 0., 0.,\n",
              "       0., 0., 0., 0., 0., 0., 0., 0., 0., 0., 0., 0., 0., 0., 0., 0., 0.,\n",
              "       0., 0., 0., 0., 0., 0., 0., 0., 0., 0., 0., 0., 0., 0., 0., 0., 0.,\n",
              "       0., 0., 0., 0., 0., 0., 0.])"
            ]
          },
          "metadata": {},
          "execution_count": 160
        }
      ]
    },
    {
      "cell_type": "code",
      "source": [
        "bi_flag"
      ],
      "metadata": {
        "colab": {
          "base_uri": "https://localhost:8080/"
        },
        "id": "E5Vh9zyPGZ04",
        "outputId": "d1c30903-066b-4347-e9cd-de289e115a3e"
      },
      "execution_count": 163,
      "outputs": [
        {
          "output_type": "execute_result",
          "data": {
            "text/plain": [
              "array([0., 0., 0., 0., 0., 0., 0., 0., 0., 0., 0., 0., 0., 0., 0., 0., 0.,\n",
              "       0., 0., 0., 0., 0., 0., 0., 0., 0., 0., 0., 0., 0., 0., 0., 0., 0.,\n",
              "       0., 0., 0., 0., 0., 0., 0., 0., 0., 0., 0., 0., 0., 0., 0., 0., 0.,\n",
              "       0., 0., 0., 0., 0., 0., 0., 0., 0., 0., 0., 0., 0., 0., 0., 0., 0.,\n",
              "       0., 0., 0., 0., 0., 0., 0., 0., 0., 0., 0., 1., 1., 1., 1., 1., 1.,\n",
              "       1., 1., 1., 1., 0., 0., 1., 1., 1., 1., 1., 1., 1., 1., 1., 1., 1.,\n",
              "       1., 1., 1., 1., 1., 1., 1., 0., 0., 0., 0., 0., 0., 1., 1., 1., 1.,\n",
              "       1., 1., 0., 0., 0., 0., 0., 0., 0., 0., 0., 0., 0., 0., 0., 0., 0.,\n",
              "       0., 0., 0., 0., 0., 0., 0., 0., 0., 0., 0., 0., 0., 0., 0., 0., 0.,\n",
              "       0., 0., 0., 0., 0., 0., 0., 0., 0., 0., 0., 0., 0., 0., 0., 0., 0.,\n",
              "       0., 0., 0., 0., 0., 0., 0., 0., 0., 0., 0., 0., 0., 0., 0., 0., 0.,\n",
              "       0., 0., 0., 0., 0., 0., 0., 0., 0., 0., 0., 0., 0., 0., 0., 0., 0.,\n",
              "       0., 0., 0., 0., 0., 0., 0., 0., 0., 0., 0., 0., 0., 0., 0., 0., 0.,\n",
              "       0., 0., 0., 0., 0., 0., 0., 0., 0., 0., 0., 0., 0., 0., 0., 0., 0.,\n",
              "       0., 0., 0., 0., 0., 0., 0., 0., 0., 0., 0., 0., 0., 0., 0., 0., 0.,\n",
              "       0., 0., 0., 0., 0., 0., 0., 0., 0., 0., 0., 0., 0., 0., 0., 0., 0.,\n",
              "       0., 0., 0., 0., 0., 0., 0., 0., 0., 0., 0., 0., 0., 0., 0., 0., 0.,\n",
              "       0., 0., 0., 0., 0., 0., 0., 0., 0., 0., 0., 0., 0., 0., 0., 0., 0.,\n",
              "       0., 0., 0., 0., 0., 0., 0., 0., 0., 0., 0., 0., 0., 0., 0., 0., 0.,\n",
              "       0., 0., 0., 0., 0., 0., 0., 0., 0., 0., 0., 0., 0., 0., 0., 0., 0.,\n",
              "       0., 0., 0., 0., 0., 0., 0., 0., 0., 0., 0., 0., 0., 0., 0., 0., 0.,\n",
              "       0., 0., 0., 0., 0., 0., 0., 0., 0., 0., 0., 0., 0., 0., 0., 0., 0.,\n",
              "       0., 0., 0., 0., 0., 0., 0., 0., 0., 0., 0., 0., 0., 0., 0., 0., 0.,\n",
              "       0., 0., 0., 0., 0., 0., 0., 0., 0., 0., 0., 0., 0., 0., 0., 0., 0.,\n",
              "       0., 0., 0., 0., 0., 0., 0., 0., 0., 0., 0., 0., 0., 0., 0., 0., 0.,\n",
              "       0., 0., 0., 0., 0., 0., 0., 0., 0., 0., 0., 0., 0., 0., 0., 0., 0.,\n",
              "       0., 0., 0., 0., 0., 0., 0., 0., 0., 0., 0., 0., 0., 0., 0., 0., 0.,\n",
              "       0., 0., 0., 0., 0., 0., 0., 0., 0., 0., 0., 0., 0., 0., 0., 0., 0.,\n",
              "       0., 0., 0., 0., 0., 0., 0., 0., 0., 0., 0., 0., 0., 0., 0., 0., 0.,\n",
              "       0., 0., 0., 0., 0., 0., 0., 0., 0., 0., 0., 0., 0., 0., 0., 0., 0.,\n",
              "       0., 1., 1., 1., 1., 1., 1., 0., 0., 0., 0., 0., 0., 0., 0., 0., 0.,\n",
              "       0., 0., 0., 0., 0., 0., 0., 0., 0., 0., 0., 0., 0., 0., 0., 0., 0.,\n",
              "       1., 1., 1., 1., 1., 1., 1., 1., 0., 0., 0., 0., 0., 0., 0., 0., 0.,\n",
              "       0., 0., 0., 0., 0., 0., 0., 0., 0., 0., 0., 0., 0., 0., 0., 0., 0.,\n",
              "       0., 0., 0., 0., 0., 0., 0., 1., 1., 1., 1., 1., 1., 0., 0., 0., 0.,\n",
              "       0., 0., 0., 0., 0., 0., 0., 0., 0., 0., 0., 0., 0., 0., 0., 0., 0.,\n",
              "       0., 0., 0., 0., 0., 0., 0., 0., 0., 0., 0., 0., 0., 0., 0., 0., 0.,\n",
              "       0., 0., 0., 0., 0., 0., 0., 0., 0., 0., 0., 0., 0., 0., 0., 0., 0.,\n",
              "       0., 0., 0., 0., 0., 0., 0., 0., 0., 0., 0., 0., 0., 0., 0., 0., 0.,\n",
              "       0., 0., 0., 0., 0., 0., 0., 0., 0., 0., 0., 0., 0., 0., 0., 0., 0.,\n",
              "       0., 0., 0., 0., 0., 0., 0., 0., 0., 0., 0., 0., 0., 0., 0., 0., 0.,\n",
              "       0., 0., 0., 0., 0., 0., 0., 0., 0., 0., 0., 0., 0., 0., 0., 0., 0.,\n",
              "       0., 0., 0., 0., 0., 0., 0., 0., 0., 0., 0., 0., 0., 0., 0., 0., 0.,\n",
              "       0., 0., 0., 0., 0., 0., 0., 0., 0., 0., 0., 0., 0., 0., 0., 0., 0.,\n",
              "       0., 0., 0., 0., 0., 0., 0., 0., 0., 0., 0., 0., 0., 0., 0., 0., 0.,\n",
              "       0., 0., 0., 0., 0., 0., 0., 0., 0., 0., 0., 0., 0., 0., 0., 0., 0.,\n",
              "       0., 0., 0., 0., 0., 0., 0., 0., 0., 0., 0., 0., 0., 0., 0., 0., 0.,\n",
              "       0., 0., 0., 0., 0., 0., 0., 0., 0., 0., 0., 0., 0., 0., 0., 0., 0.,\n",
              "       0., 0., 0., 0., 0., 0., 0., 0., 0., 0., 0., 0., 0., 0., 0., 0., 0.,\n",
              "       0., 0., 0., 0., 0., 0., 0., 0., 0., 0., 0., 0., 0., 0., 0., 0., 0.,\n",
              "       0., 0., 0., 0., 0., 0., 0., 0., 0., 0., 0., 0., 0., 0., 0., 0., 0.,\n",
              "       0., 0., 0., 0., 0., 0., 0., 0., 0., 0., 0., 0., 0., 0., 0., 0., 0.,\n",
              "       0., 0., 0., 0., 0., 0., 0., 0., 0., 0., 0., 0., 0., 0., 0., 0., 0.,\n",
              "       0., 0., 0., 0., 0., 0., 0., 0., 0., 0., 0., 0., 0., 0., 0., 0., 0.,\n",
              "       0., 0., 0., 0., 0., 0., 0., 0., 0., 0., 0., 0., 0., 0., 0., 0., 0.,\n",
              "       0., 0., 0., 0., 0., 0., 0., 0., 0., 0., 0., 0., 0., 0., 0., 0., 0.,\n",
              "       0., 0., 0., 0., 0., 0., 0., 0., 0., 0., 0., 0., 0., 0., 0., 0., 0.,\n",
              "       0., 0., 0., 0., 0., 0., 0.])"
            ]
          },
          "metadata": {},
          "execution_count": 163
        }
      ]
    },
    {
      "cell_type": "code",
      "source": [
        "dur_quad"
      ],
      "metadata": {
        "colab": {
          "base_uri": "https://localhost:8080/"
        },
        "id": "dH8J7C1-GdOs",
        "outputId": "cd512a04-4515-4669-ea1c-7c7f5f6176b6"
      },
      "execution_count": 164,
      "outputs": [
        {
          "output_type": "execute_result",
          "data": {
            "text/plain": [
              "0"
            ]
          },
          "metadata": {},
          "execution_count": 164
        }
      ]
    },
    {
      "cell_type": "code",
      "source": [
        "dur_tri"
      ],
      "metadata": {
        "colab": {
          "base_uri": "https://localhost:8080/"
        },
        "id": "XAzTyfSTGr6D",
        "outputId": "4c1850c1-6aa5-448e-8d54-33af778db8f4"
      },
      "execution_count": 165,
      "outputs": [
        {
          "output_type": "execute_result",
          "data": {
            "text/plain": [
              "2527"
            ]
          },
          "metadata": {},
          "execution_count": 165
        }
      ]
    },
    {
      "cell_type": "code",
      "source": [
        "dur_bi"
      ],
      "metadata": {
        "colab": {
          "base_uri": "https://localhost:8080/"
        },
        "id": "pYwcoRZQGuah",
        "outputId": "7c1d7a4d-1085-4fff-c945-224d8a372e43"
      },
      "execution_count": 166,
      "outputs": [
        {
          "output_type": "execute_result",
          "data": {
            "text/plain": [
              "22532"
            ]
          },
          "metadata": {},
          "execution_count": 166
        }
      ]
    },
    {
      "cell_type": "code",
      "source": [
        "quad_acf"
      ],
      "metadata": {
        "colab": {
          "base_uri": "https://localhost:8080/"
        },
        "id": "Qi9i-PpLGw5H",
        "outputId": "c08dccb7-af46-4bc1-a577-8593e07a4477"
      },
      "execution_count": 169,
      "outputs": [
        {
          "output_type": "execute_result",
          "data": {
            "text/plain": [
              "array([], dtype=float64)"
            ]
          },
          "metadata": {},
          "execution_count": 169
        }
      ]
    },
    {
      "cell_type": "code",
      "source": [
        "tri_acf"
      ],
      "metadata": {
        "colab": {
          "base_uri": "https://localhost:8080/"
        },
        "id": "q_AsdVb5G2ey",
        "outputId": "c68152f4-a684-4094-9f51-8c9afbd76a61"
      },
      "execution_count": 170,
      "outputs": [
        {
          "output_type": "execute_result",
          "data": {
            "text/plain": [
              "array([0.53770461])"
            ]
          },
          "metadata": {},
          "execution_count": 170
        }
      ]
    },
    {
      "cell_type": "code",
      "source": [
        "bi_acf"
      ],
      "metadata": {
        "colab": {
          "base_uri": "https://localhost:8080/"
        },
        "id": "ftpejargG8l1",
        "outputId": "6d5482bd-fbc8-41e2-c420-b87c1095cf00"
      },
      "execution_count": 171,
      "outputs": [
        {
          "output_type": "execute_result",
          "data": {
            "text/plain": [
              "array([ 0.31870317,  0.0074419 , -0.05644626, -0.55807616,  0.1099205 ,\n",
              "       -0.42033695])"
            ]
          },
          "metadata": {},
          "execution_count": 171
        }
      ]
    },
    {
      "cell_type": "code",
      "source": [],
      "metadata": {
        "id": "IUpAxB5NX30J"
      },
      "execution_count": null,
      "outputs": []
    }
  ]
}